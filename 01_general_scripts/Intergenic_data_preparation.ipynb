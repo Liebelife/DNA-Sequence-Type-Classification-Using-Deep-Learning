{
 "cells": [
  {
   "cell_type": "markdown",
   "id": "171f3351-a497-46bb-a0ff-17c70f596033",
   "metadata": {},
   "source": [
    "~/DP/data/chromosomes/Canis_lupus_familiaris_with_introns_simplified_chr_only_no_duplicates.txt\n",
    "\n"
   ]
  },
  {
   "cell_type": "code",
   "execution_count": 1,
   "id": "d2e45afc-661c-4c4c-b5c4-f0920b4d4014",
   "metadata": {},
   "outputs": [
    {
     "name": "stdout",
     "output_type": "stream",
     "text": [
      "/home/lieberze/DP\n"
     ]
    }
   ],
   "source": [
    "import os\n",
    "import pandas as pd\n",
    "print(os.getcwd())"
   ]
  },
  {
   "cell_type": "code",
   "execution_count": 2,
   "id": "27362910-7720-4543-a781-a568dc8c6b0f",
   "metadata": {},
   "outputs": [],
   "source": [
    "root_folder = ''\n",
    "chr_folder = os.path.abspath(os.path.join(root_folder, 'data/chromosomes/'))\n",
    "fna_folder = os.path.abspath(os.path.join(root_folder, 'data/'))"
   ]
  },
  {
   "cell_type": "markdown",
   "id": "896b34d1-633c-439f-9f79-25d00c5c1d11",
   "metadata": {},
   "source": [
    "Get filenames for future use"
   ]
  },
  {
   "cell_type": "code",
   "execution_count": 31,
   "id": "24d4c7f5-7f03-4f1c-8834-dc5f87437f12",
   "metadata": {},
   "outputs": [
    {
     "data": {
      "text/plain": [
       "['Bos_taurus',\n",
       " 'Canis_lupus_familiaris',\n",
       " 'Equus_caballus',\n",
       " 'Felis_catus',\n",
       " 'Monodelphis_domestica',\n",
       " 'Mus_musculus',\n",
       " 'Ornitohoryhynchus_anatinus',\n",
       " 'Ovis_aries',\n",
       " 'Rattus_norvegicus',\n",
       " 'Sus_scrofa']"
      ]
     },
     "execution_count": 31,
     "metadata": {},
     "output_type": "execute_result"
    }
   ],
   "source": [
    "var = !ls ~/DP/data\n",
    "names = []\n",
    "for i in var:\n",
    "    if i.endswith(\"fna\"):\n",
    "        names.append(i.split(\".\")[0])\n",
    "names"
   ]
  },
  {
   "cell_type": "markdown",
   "id": "393a270b-d3e0-4a7e-bb72-54f9170d46fa",
   "metadata": {
    "jp-MarkdownHeadingCollapsed": true,
    "tags": []
   },
   "source": [
    "## Extract intergenic coordinates"
   ]
  },
  {
   "cell_type": "code",
   "execution_count": 5,
   "id": "0497f9c3-63af-416f-903a-81b6af02fae5",
   "metadata": {},
   "outputs": [],
   "source": [
    "def get_intergenic(df_sorted, file):\n",
    "    end = 0\n",
    "    for line in df_sorted.iterrows():\n",
    "        ch = line[1].chr\n",
    "        start_new = line[1].start\n",
    "        end_new = line[1].end\n",
    "              \n",
    "        if start_new != end + 1:\n",
    "            start_intergenic = end + 1\n",
    "            end_intergenic = start_new - 1\n",
    "            file.write(f\"{ch}\\tintergenic\\t{start_intergenic}\\t{end_intergenic}\\n\")\n",
    "            end = end_new\n",
    "        else:\n",
    "            end = end_new"
   ]
  },
  {
   "cell_type": "code",
   "execution_count": 6,
   "id": "c138834f-d4e3-4b46-bf5e-eb6a84de9227",
   "metadata": {},
   "outputs": [],
   "source": [
    "def open_process_and_write(name):\n",
    "    with open(chr_folder + f\"/intergenic/{name}_chr_only_intergenic_no_duplicates.txt\", \"w\") as file_out:\n",
    "        path = chr_folder + f\"/{name}_with_introns_simplified_chr_only_no_duplicates.txt\"\n",
    "        df = pd.read_csv(path, sep=\"\\t\", header=None)\n",
    "        df.columns = [\"chr\", \"type\", \"start\", \"end\"]\n",
    "        chrs = df.chr.unique()\n",
    "        for ch in chrs:\n",
    "            df_chr = df[df[\"chr\"] == ch]\n",
    "            df_chr_sorted = df_chr.sort_values(by=[\"start\"], axis=0)\n",
    "            get_intergenic(df_chr_sorted, file_out)"
   ]
  },
  {
   "cell_type": "code",
   "execution_count": 7,
   "id": "8e96973e-654d-4c1c-9f82-af1107bc06e4",
   "metadata": {},
   "outputs": [],
   "source": [
    "for name in names:\n",
    "    open_process_and_write(name)"
   ]
  },
  {
   "cell_type": "markdown",
   "id": "03322349-bef9-4acd-a7bc-f7d0c0db457f",
   "metadata": {
    "jp-MarkdownHeadingCollapsed": true,
    "tags": []
   },
   "source": [
    "## Extract intergenic sequences from .fna"
   ]
  },
  {
   "cell_type": "markdown",
   "id": "dedf0b55-a95b-4ff6-86f1-696d87d1db82",
   "metadata": {},
   "source": [
    "Get chromosome names"
   ]
  },
  {
   "cell_type": "code",
   "execution_count": 22,
   "id": "8255c939-4a70-4890-bf26-00f5d5a141fc",
   "metadata": {},
   "outputs": [],
   "source": [
    "def get_chromosome_names(name):\n",
    "    df = pd.read_csv(chr_folder + f\"/intergenic/{name}_chr_only_intergenic_no_duplicates.txt\", sep=\"\\t\", header=None)\n",
    "    df.columns = [\"chr\", \"type\", \"start\", \"end\"]\n",
    "    chr_list = df.chr.unique()\n",
    "    return chr_list"
   ]
  },
  {
   "cell_type": "code",
   "execution_count": 23,
   "id": "5e29cd4f-9997-4c9a-bba3-67c2bd258cdf",
   "metadata": {},
   "outputs": [],
   "source": [
    "def load_chromosome_sequences(name):\n",
    "    chr_list = get_chromosome_names(name)\n",
    "    chromosome_list = {}\n",
    "    with open(f\"data/{name}.fna\", \"r\") as fasta:\n",
    "        sequence = \"\"\n",
    "        chr_name_saved = \"\"\n",
    "        write_sequence = False\n",
    "        for line in fasta:\n",
    "            line = line.strip()\n",
    "            if line.startswith(\">\"):\n",
    "                chr_name = line.split()[0].strip(\">\")\n",
    "                if chr_name_saved == \"\": \n",
    "                    if chr_name in chr_list:\n",
    "                        write_sequence = True\n",
    "                        chr_name_saved = chr_name\n",
    "                        sequence = \"\"\n",
    "                # case: saving a new name:sequence pair to dictionary\n",
    "                else:\n",
    "                    chromosome_list[chr_name_saved] = sequence\n",
    "                    if chr_name in chr_list:\n",
    "                        chr_name_saved = chr_name\n",
    "                        write_sequence = True\n",
    "                        sequence = \"\"\n",
    "                    else:\n",
    "                        write_sequence = False\n",
    "                        chr_name_saved = \"\"\n",
    "            else:\n",
    "                if write_sequence == True:\n",
    "                    sequence += line\n",
    "        return chromosome_list"
   ]
  },
  {
   "cell_type": "code",
   "execution_count": 33,
   "id": "7e449222-0a86-4910-9e07-8d600a9fcfe3",
   "metadata": {},
   "outputs": [],
   "source": [
    "def extract_for_all_names(name):\n",
    "    chromosome_list = load_chromosome_sequences(name)\n",
    "    # print(chromosome_list.keys())\n",
    "    all_intergenic = 0\n",
    "    problematic = 0\n",
    "    with open(f\"data/chromosomes/intergenic/{name}_chr_only_intergenic_no_duplicates.txt\", \"r\") as extracted_gff,\\\n",
    "        open(f\"data/ready_to_use/{name}_intergenic_no_duplicates.txt\", \"w\") as file_out,\\\n",
    "        open(f\"data/ready_to_use/{name}_intergenic_error_info_no_duplicates.txt\", \"w\") as file_error:\n",
    "        for line in extracted_gff:\n",
    "            line = line.strip()\n",
    "\n",
    "            line_split = line.split()\n",
    "            chr_number = line_split[0]\n",
    "            start = int(line_split[2])\n",
    "            stop = int(line_split[3])\n",
    "            \n",
    "            print(chr_number, start, stop)\n",
    "\n",
    "            # start - 1 kvuli indexaci od 1\n",
    "            sequence = chromosome_list[chr_number][start-1:stop]\n",
    "            all_intergenic += 1\n",
    "            if \"N\" in sequence:\n",
    "                problematic += 1\n",
    "                file_error.write(\"POZOR, máme 'N' v sekvenci:\\n\" + line +\" \"+ sequence + \"\\n\")\n",
    "            file_out.write(line + \"\\t\" + sequence + \"\\n\")\n",
    "\n",
    "        report = f\"pocet intergenovych intronu obsahujicich N: {problematic} ({(problematic/all_intergenic) * 100} %)\"\n",
    "        print(report)\n",
    "        file_error.write(report+\"\\n\")"
   ]
  },
  {
   "cell_type": "code",
   "execution_count": 25,
   "id": "a3b2d899-4c6f-4ae5-8b1a-74cbd67fa4ff",
   "metadata": {},
   "outputs": [
    {
     "data": {
      "text/plain": [
       "['Bos_taurus',\n",
       " 'Canis_lupus_familiaris',\n",
       " 'Equus_caballus',\n",
       " 'Felis_catus',\n",
       " 'Monodelphis_domestica',\n",
       " 'Mus_musculus',\n",
       " 'Ornitohoryhynchus_anatinus',\n",
       " 'Ovis_aries',\n",
       " 'Rattus_norvegicus',\n",
       " 'Sus_scrofa']"
      ]
     },
     "execution_count": 25,
     "metadata": {},
     "output_type": "execute_result"
    }
   ],
   "source": [
    "names"
   ]
  },
  {
   "cell_type": "code",
   "execution_count": 32,
   "id": "f09c18a5-6405-4cb4-b033-996148354711",
   "metadata": {},
   "outputs": [],
   "source": [
    "for name in names:\n",
    "    extract_for_all_names(name)"
   ]
  },
  {
   "cell_type": "markdown",
   "id": "ce1554c4-73f0-42ff-9ec3-e58551626317",
   "metadata": {
    "tags": []
   },
   "source": [
    "## Remove sequences with N (and create report)"
   ]
  },
  {
   "cell_type": "code",
   "execution_count": 38,
   "id": "e14a74c5-115b-4355-868a-e156d3c636c3",
   "metadata": {},
   "outputs": [],
   "source": [
    "def remove_N(name):\n",
    "    deleted_lines = 0\n",
    "    all_lines = 0\n",
    "    with open(f\"data/ready_to_use/{name}_intergenic_no_duplicates.txt\", \"r\") as file_in,\\\n",
    "        open(f\"data/ready_to_use/without_N/{name}_intergenic_no_duplicates_without_N.txt\", \"w\") as file_out:\n",
    "            for line in file_in:\n",
    "                line = line.strip()\n",
    "                line_list = line.split()\n",
    "                all_lines += 1\n",
    "\n",
    "                if len(line_list) < 5: # intron of length 1(?) => no sequence, no fifth entry\n",
    "                    deleted_lines += 1\n",
    "                else:\n",
    "                    sequence = line_list[4]\n",
    "                    if \"N\" not in sequence:\n",
    "                        file_out.write(line + \"\\n\")\n",
    "                    else:\n",
    "                        deleted_lines += 1\n",
    "                        \n",
    "    print(\" \".join(name.split(\"_\")))\n",
    "    print(f\"smazano {deleted_lines} sekvenci, celkem {deleted_lines/all_lines * 100} %\")"
   ]
  },
  {
   "cell_type": "code",
   "execution_count": 39,
   "id": "294d60cf-9e91-479c-ae4a-3c7f2a573d28",
   "metadata": {},
   "outputs": [
    {
     "name": "stdout",
     "output_type": "stream",
     "text": [
      "Bos taurus\n",
      "smazano 104599 sekvenci, celkem 73.25116425645156 %\n",
      "Canis lupus familiaris\n",
      "smazano 133733 sekvenci, celkem 73.77436242573356 %\n",
      "Equus caballus\n",
      "smazano 96735 sekvenci, celkem 73.26521956465758 %\n",
      "Felis catus\n",
      "smazano 87324 sekvenci, celkem 68.87674214997278 %\n",
      "Monodelphis domestica\n",
      "smazano 88621 sekvenci, celkem 77.16104203670811 %\n",
      "Mus musculus\n",
      "smazano 174467 sekvenci, celkem 76.89564895455027 %\n",
      "Ornitohoryhynchus anatinus\n",
      "smazano 47229 sekvenci, celkem 59.36946110042614 %\n",
      "Ovis aries\n",
      "smazano 78576 sekvenci, celkem 68.23854310502045 %\n",
      "Rattus norvegicus\n",
      "smazano 145499 sekvenci, celkem 75.4968296302446 %\n",
      "Sus scrofa\n",
      "smazano 99407 sekvenci, celkem 75.65854066931021 %\n"
     ]
    }
   ],
   "source": [
    "for name in names:\n",
    "    remove_N(name)"
   ]
  }
 ],
 "metadata": {
  "kernelspec": {
   "display_name": "Python 3",
   "language": "python",
   "name": "python3"
  },
  "language_info": {
   "codemirror_mode": {
    "name": "ipython",
    "version": 3
   },
   "file_extension": ".py",
   "mimetype": "text/x-python",
   "name": "python",
   "nbconvert_exporter": "python",
   "pygments_lexer": "ipython3",
   "version": "3.6.13"
  }
 },
 "nbformat": 4,
 "nbformat_minor": 5
}
