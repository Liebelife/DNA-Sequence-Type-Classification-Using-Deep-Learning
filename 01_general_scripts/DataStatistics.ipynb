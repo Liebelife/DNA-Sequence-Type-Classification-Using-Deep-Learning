{
 "cells": [
  {
   "cell_type": "code",
   "execution_count": 2,
   "id": "e3d7c00b-73ca-46dc-991e-715ceb41b43d",
   "metadata": {},
   "outputs": [],
   "source": [
    "path = \"/home/lieberze/DP/data/ready_to_use/without_N/sorted_introns_exons_intergenic/\" #Bos_taurus_introns_exons_intergenic_no_duplicates_without_N.txt\"\n",
    "# x = ! ls $a\n",
    "names = ['Bos_taurus_introns_exons_intergenic_no_duplicates_without_N.txt',\n",
    " 'Canis_lupus_familiaris_introns_exons_intergenic_no_duplicates_without_N.txt',\n",
    " 'Equus_caballus_introns_exons_intergenic_no_duplicates_without_N.txt',\n",
    " 'Felis_catus_introns_exons_intergenic_no_duplicates_without_N.txt',\n",
    " 'Monodelphis_domestica_introns_exons_intergenic_no_duplicates_without_N.txt',\n",
    " 'Mus_musculus_introns_exons_intergenic_no_duplicates_without_N.txt',\n",
    " 'Ornitohoryhynchus_anatinus_introns_exons_intergenic_no_duplicates_without_N.txt',\n",
    " 'Ovis_aries_introns_exons_intergenic_no_duplicates_without_N.txt',\n",
    " 'Rattus_norvegicus_introns_exons_intergenic_no_duplicates_without_N.txt',\n",
    " 'Sus_scrofa_introns_exons_intergenic_no_duplicates_without_N.txt']"
   ]
  },
  {
   "cell_type": "code",
   "execution_count": 4,
   "id": "1bbd3bb0-7720-452a-b093-8c2f1e6ecb2c",
   "metadata": {},
   "outputs": [],
   "source": [
    "counts = {}\n",
    "for name in names:\n",
    "    PATH = f\"{path}/{name}\"\n",
    "    # ! head $PATH\n",
    "    count = ! cat $PATH | cut -f2 | sort | uniq -c\n",
    "    counts[name] = count"
   ]
  },
  {
   "cell_type": "code",
   "execution_count": 12,
   "id": "4f0179c4-1861-4c1a-af58-f9a3d66a3389",
   "metadata": {},
   "outputs": [
    {
     "data": {
      "text/plain": [
       "{'Bos taurus': {'exon': '294981', 'intergenic': '38196', 'intron': '241633'},\n",
       " 'Canis lupus familiaris': {'exon': '336455',\n",
       "  'intergenic': '47540',\n",
       "  'intron': '287555'},\n",
       " 'Equus caballus': {'exon': '289655',\n",
       "  'intergenic': '35299',\n",
       "  'intron': '248535'},\n",
       " 'Felis catus': {'exon': '285939', 'intergenic': '39459', 'intron': '246620'},\n",
       " 'Monodelphis domestica': {'exon': '276820',\n",
       "  'intergenic': '26231',\n",
       "  'intron': '215547'},\n",
       " 'Mus musculus': {'exon': '368785', 'intergenic': '52421', 'intron': '295597'},\n",
       " 'Ornitohoryhynchus anatinus': {'exon': '239249',\n",
       "  'intergenic': '32322',\n",
       "  'intron': '208569'},\n",
       " 'Ovis aries': {'exon': '266546', 'intergenic': '36573', 'intron': '238173'},\n",
       " 'Rattus norvegicus': {'exon': '337317',\n",
       "  'intergenic': '47223',\n",
       "  'intron': '271450'},\n",
       " 'Sus scrofa': {'exon': '286138', 'intergenic': '31982', 'intron': '241359'}}"
      ]
     },
     "execution_count": 12,
     "metadata": {},
     "output_type": "execute_result"
    }
   ],
   "source": [
    "df = {}\n",
    "for k,v in counts.items():\n",
    "    name = k.replace(\"_introns_exons_intergenic_no_duplicates_without_N.txt\",\"\").replace(\"_\", \" \")\n",
    "    values = [i.strip().split() for i in v]\n",
    "    new_dict = {}\n",
    "    for i in values:\n",
    "        key = i[1]\n",
    "        vl = i[0]\n",
    "        new_dict[key] = vl\n",
    "    df[name] = new_dict\n",
    "df"
   ]
  },
  {
   "cell_type": "code",
   "execution_count": 25,
   "id": "7784a146-90ec-46e9-b4f7-213157b77520",
   "metadata": {},
   "outputs": [],
   "source": [
    "import pandas as pd\n",
    "df = pd.DataFrame(df).T\n",
    "df.to_excel(\"../counts.xlsx\")"
   ]
  },
  {
   "cell_type": "code",
   "execution_count": 5,
   "id": "160fe5f5-2841-4c90-90cb-3e171c848d2c",
   "metadata": {},
   "outputs": [
    {
     "data": {
      "text/plain": [
       "{'Bos_taurus_introns_exons_intergenic_no_duplicates_without_N.txt': [' 294981 exon',\n",
       "  '  38196 intergenic',\n",
       "  ' 241633 intron'],\n",
       " 'Canis_lupus_familiaris_introns_exons_intergenic_no_duplicates_without_N.txt': [' 336455 exon',\n",
       "  '  47540 intergenic',\n",
       "  ' 287555 intron'],\n",
       " 'Equus_caballus_introns_exons_intergenic_no_duplicates_without_N.txt': [' 289655 exon',\n",
       "  '  35299 intergenic',\n",
       "  ' 248535 intron'],\n",
       " 'Felis_catus_introns_exons_intergenic_no_duplicates_without_N.txt': [' 285939 exon',\n",
       "  '  39459 intergenic',\n",
       "  ' 246620 intron'],\n",
       " 'Monodelphis_domestica_introns_exons_intergenic_no_duplicates_without_N.txt': [' 276820 exon',\n",
       "  '  26231 intergenic',\n",
       "  ' 215547 intron'],\n",
       " 'Mus_musculus_introns_exons_intergenic_no_duplicates_without_N.txt': [' 368785 exon',\n",
       "  '  52421 intergenic',\n",
       "  ' 295597 intron'],\n",
       " 'Ornitohoryhynchus_anatinus_introns_exons_intergenic_no_duplicates_without_N.txt': [' 239249 exon',\n",
       "  '  32322 intergenic',\n",
       "  ' 208569 intron'],\n",
       " 'Ovis_aries_introns_exons_intergenic_no_duplicates_without_N.txt': [' 266546 exon',\n",
       "  '  36573 intergenic',\n",
       "  ' 238173 intron'],\n",
       " 'Rattus_norvegicus_introns_exons_intergenic_no_duplicates_without_N.txt': [' 337317 exon',\n",
       "  '  47223 intergenic',\n",
       "  ' 271450 intron'],\n",
       " 'Sus_scrofa_introns_exons_intergenic_no_duplicates_without_N.txt': [' 286138 exon',\n",
       "  '  31982 intergenic',\n",
       "  ' 241359 intron']}"
      ]
     },
     "execution_count": 5,
     "metadata": {},
     "output_type": "execute_result"
    }
   ],
   "source": [
    "counts"
   ]
  },
  {
   "cell_type": "code",
   "execution_count": 26,
   "id": "09860eba-039a-4922-8b17-c564e19ae6b5",
   "metadata": {
    "tags": []
   },
   "outputs": [
    {
     "name": "stdout",
     "output_type": "stream",
     "text": [
      "2224951 exon\n",
      "2224951 intergenic\n",
      "2224951 intron\n"
     ]
    }
   ],
   "source": [
    "# data pouzita na trenovai transformeru\n",
    "data_path = \"/home/lieberze/DP/Thesis/05_model_training/data/512_bp_for_encoding/NEW/All_equal_shuffled_all_the_same_length_512.txt\"       \n",
    "! cat $data_path | cut -f1 | sort | uniq -c"
   ]
  },
  {
   "cell_type": "code",
   "execution_count": null,
   "id": "a2e43a74-77d4-48d4-8c23-cf1b724e21d4",
   "metadata": {},
   "outputs": [],
   "source": []
  }
 ],
 "metadata": {
  "kernelspec": {
   "display_name": "Python 3",
   "language": "python",
   "name": "python3"
  },
  "language_info": {
   "codemirror_mode": {
    "name": "ipython",
    "version": 3
   },
   "file_extension": ".py",
   "mimetype": "text/x-python",
   "name": "python",
   "nbconvert_exporter": "python",
   "pygments_lexer": "ipython3",
   "version": "3.6.13"
  }
 },
 "nbformat": 4,
 "nbformat_minor": 5
}
