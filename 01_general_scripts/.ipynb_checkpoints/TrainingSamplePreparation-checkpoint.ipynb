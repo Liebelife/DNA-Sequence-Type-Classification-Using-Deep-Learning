{
 "cells": [
  {
   "cell_type": "markdown",
   "id": "ce4dc6fc-2da8-4b3e-9b84-4df05eb9e03d",
   "metadata": {},
   "source": [
    "# Preparation of training dat for the model"
   ]
  },
  {
   "cell_type": "markdown",
   "id": "bac34781-05ec-40c8-ad0c-b8d1b4fc2ec1",
   "metadata": {},
   "source": [
    "100 000 lines-long file is required, having equal representation of all ten genomes and intergenic, exon and intron sequences"
   ]
  },
  {
   "cell_type": "code",
   "execution_count": 1,
   "id": "dfc566c1-b96b-4a83-bfe4-5771075d8cb7",
   "metadata": {},
   "outputs": [
    {
     "name": "stdout",
     "output_type": "stream",
     "text": [
      "/home/lieberze/DP\n"
     ]
    }
   ],
   "source": [
    "import os\n",
    "print(os.getcwd())"
   ]
  },
  {
   "cell_type": "markdown",
   "id": "598d178e-46b1-4f53-ae65-6dcacd700d62",
   "metadata": {},
   "source": [
    "## Parameters of the notebook code\n",
    "Change these in order to adjust the output file generation parameters. No other parameter changes in other chunks are required. After the notebook run is finished, it is important to check the **IMPORTANT CHUNK** output for info about the success of the operation.\n",
    "\n",
    "Reccommended: \n",
    "- N_max = 256, then SuffixOfTheInputFile = 4000\n",
    "- N_max = 512, then SuffixOfTheInputFile = 5000"
   ]
  },
  {
   "cell_type": "code",
   "execution_count": 2,
   "id": "8bbb58f7-6e83-4327-8c52-f6d9b3965837",
   "metadata": {},
   "outputs": [],
   "source": [
    "import numpy as np\n",
    "\n",
    "SuffixOfTheInputFile = 5000 # the input files are created \n",
    "N_max = 512 # length of the output file lines (maximum base pairs)\n",
    "N_min_len = 30 # minimum length of sequence\n",
    "N_lines_total = 100000 # desired number of lines in the output file All_equal_shuffled.txt\n",
    "Equal_part = int(np.floor(N_lines_total/3))"
   ]
  },
  {
   "cell_type": "markdown",
   "id": "3ce52592-7d03-44a3-a367-82cdbd5bdc38",
   "metadata": {},
   "source": [
    "## Paths"
   ]
  },
  {
   "cell_type": "code",
   "execution_count": 3,
   "id": "00997049-7626-4a90-be2c-58162a07963b",
   "metadata": {},
   "outputs": [],
   "source": [
    "import os\n",
    "RootFolder = \"/home/lieberze/DP/\"\n",
    "ThesisFolder = os.path.abspath(os.path.join(RootFolder, 'Thesis/model_training/data/'))\n",
    "All_genomes = os.path.abspath(os.path.join(ThesisFolder, 'All_genomes_100K_lines'))\n",
    "All_genomes_file = os.path.abspath(os.path.join(All_genomes, f'Sample_of_all_genomes_large_{SuffixOfTheInputFile}.txt'))"
   ]
  },
  {
   "cell_type": "markdown",
   "id": "8652db56-0cd1-45cc-ab2c-8f324f117569",
   "metadata": {
    "tags": []
   },
   "source": [
    "## Statistics of lengths "
   ]
  },
  {
   "cell_type": "code",
   "execution_count": 4,
   "id": "2f40993f-fb6f-44c5-8737-c7b247953fb8",
   "metadata": {},
   "outputs": [],
   "source": [
    "exons, introns, intergenic = [], [], [] \n",
    "with open(All_genomes_file, \"r\") as file:\n",
    "    for line in file:\n",
    "        LineSplit = line.strip().split()\n",
    "        Seqtype, Seq = LineSplit[1], LineSplit[-1]\n",
    "        if Seqtype == \"exon\":\n",
    "            exons.append(len(Seq))\n",
    "        if Seqtype == \"intron\":\n",
    "            introns.append(len(Seq))\n",
    "        if Seqtype == \"intergenic\":\n",
    "            intergenic.append(len(Seq))"
   ]
  },
  {
   "cell_type": "code",
   "execution_count": 5,
   "id": "6e4ab5b9-06b7-42b2-9c8a-1b4b1015538d",
   "metadata": {},
   "outputs": [
    {
     "data": {
      "text/html": [
       "<div>\n",
       "<style scoped>\n",
       "    .dataframe tbody tr th:only-of-type {\n",
       "        vertical-align: middle;\n",
       "    }\n",
       "\n",
       "    .dataframe tbody tr th {\n",
       "        vertical-align: top;\n",
       "    }\n",
       "\n",
       "    .dataframe thead th {\n",
       "        text-align: right;\n",
       "    }\n",
       "</style>\n",
       "<table border=\"1\" class=\"dataframe\">\n",
       "  <thead>\n",
       "    <tr style=\"text-align: right;\">\n",
       "      <th></th>\n",
       "      <th>exons</th>\n",
       "      <th>introns</th>\n",
       "      <th>intergenic</th>\n",
       "    </tr>\n",
       "  </thead>\n",
       "  <tbody>\n",
       "    <tr>\n",
       "      <th>count</th>\n",
       "      <td>25556.000000</td>\n",
       "      <td>20627.000000</td>\n",
       "      <td>3.817000e+03</td>\n",
       "    </tr>\n",
       "    <tr>\n",
       "      <th>mean</th>\n",
       "      <td>386.886524</td>\n",
       "      <td>7312.223154</td>\n",
       "      <td>5.800505e+04</td>\n",
       "    </tr>\n",
       "    <tr>\n",
       "      <th>std</th>\n",
       "      <td>810.095436</td>\n",
       "      <td>22418.163155</td>\n",
       "      <td>1.142158e+05</td>\n",
       "    </tr>\n",
       "    <tr>\n",
       "      <th>min</th>\n",
       "      <td>1.000000</td>\n",
       "      <td>1.000000</td>\n",
       "      <td>2.000000e+00</td>\n",
       "    </tr>\n",
       "    <tr>\n",
       "      <th>25%</th>\n",
       "      <td>96.000000</td>\n",
       "      <td>578.000000</td>\n",
       "      <td>2.752000e+03</td>\n",
       "    </tr>\n",
       "    <tr>\n",
       "      <th>50%</th>\n",
       "      <td>143.000000</td>\n",
       "      <td>1726.000000</td>\n",
       "      <td>1.439900e+04</td>\n",
       "    </tr>\n",
       "    <tr>\n",
       "      <th>75%</th>\n",
       "      <td>265.000000</td>\n",
       "      <td>5319.500000</td>\n",
       "      <td>5.448200e+04</td>\n",
       "    </tr>\n",
       "    <tr>\n",
       "      <th>max</th>\n",
       "      <td>14943.000000</td>\n",
       "      <td>601497.000000</td>\n",
       "      <td>1.238100e+06</td>\n",
       "    </tr>\n",
       "  </tbody>\n",
       "</table>\n",
       "</div>"
      ],
      "text/plain": [
       "              exons        introns    intergenic\n",
       "count  25556.000000   20627.000000  3.817000e+03\n",
       "mean     386.886524    7312.223154  5.800505e+04\n",
       "std      810.095436   22418.163155  1.142158e+05\n",
       "min        1.000000       1.000000  2.000000e+00\n",
       "25%       96.000000     578.000000  2.752000e+03\n",
       "50%      143.000000    1726.000000  1.439900e+04\n",
       "75%      265.000000    5319.500000  5.448200e+04\n",
       "max    14943.000000  601497.000000  1.238100e+06"
      ]
     },
     "execution_count": 5,
     "metadata": {},
     "output_type": "execute_result"
    }
   ],
   "source": [
    "import pandas as pd\n",
    "e = pd.DataFrame(exons).describe()\n",
    "i = pd.DataFrame(introns).describe()\n",
    "inter = pd.DataFrame(intergenic).describe()\n",
    "df = pd.concat([e,i,inter], axis=1)\n",
    "df.columns = [\"exons\",\"introns\",\"intergenic\"]\n",
    "df"
   ]
  },
  {
   "cell_type": "markdown",
   "id": "0043ddc9-d120-43b1-be83-b2ff0c8ce378",
   "metadata": {},
   "source": [
    "## Create a training file"
   ]
  },
  {
   "cell_type": "markdown",
   "id": "0617c1cd-0809-48d8-8d9b-e9daa72adf78",
   "metadata": {},
   "source": [
    "Separate exon, intron, intergenic"
   ]
  },
  {
   "cell_type": "code",
   "execution_count": 6,
   "id": "cb36ef68-774c-41af-9880-9b5b7dbaee9c",
   "metadata": {},
   "outputs": [],
   "source": [
    "import textwrap\n",
    "with open(All_genomes_file, \"r\") as file,\\\n",
    "    open(f\"{All_genomes}/{N_max}_bp/exons.txt\",\"w\") as exon_file,\\\n",
    "    open(f\"{All_genomes}/{N_max}_bp/introns.txt\",\"w\") as intron_file,\\\n",
    "    open(f\"{All_genomes}/{N_max}_bp/intergenic.txt\",\"w\") as intergenic_file:\n",
    "    for line in file:\n",
    "        LineSplit = line.strip().split()\n",
    "        Seqtype, Seq = LineSplit[1], LineSplit[-1]\n",
    "        lines = textwrap.wrap(Seq, N_max)\n",
    "        if Seqtype == \"exon\":\n",
    "            for j in lines:\n",
    "                if len(j) > N_min_len:\n",
    "                    exon_file.write(Seqtype + \"\\t\" + j + \"\\n\")\n",
    "        if Seqtype == \"intron\":\n",
    "            for j in lines:\n",
    "                if len(j) > N_min_len:\n",
    "                    intron_file.write(Seqtype + \"\\t\" + j + \"\\n\")      \n",
    "        if Seqtype == \"intergenic\":\n",
    "            for j in lines:\n",
    "                if len(j) > N_min_len:\n",
    "                    intergenic_file.write(Seqtype + \"\\t\" + j + \"\\n\")  "
   ]
  },
  {
   "cell_type": "code",
   "execution_count": 7,
   "id": "8488c650-3855-43a6-9758-5df04489c929",
   "metadata": {},
   "outputs": [
    {
     "name": "stdout",
     "output_type": "stream",
     "text": [
      "    99999 /home/lieberze/DP/Thesis/model_training/data/All_genomes_100K_lines/512_bp/All_equal_shuffled.txt\n",
      "    99999 /home/lieberze/DP/Thesis/model_training/data/All_genomes_100K_lines/512_bp/All_equal.txt\n",
      "    35824 /home/lieberze/DP/Thesis/model_training/data/All_genomes_100K_lines/512_bp/exons.txt\n",
      "   434122 /home/lieberze/DP/Thesis/model_training/data/All_genomes_100K_lines/512_bp/intergenic.txt\n",
      "   304119 /home/lieberze/DP/Thesis/model_training/data/All_genomes_100K_lines/512_bp/introns.txt\n",
      "   974063 total\n"
     ]
    }
   ],
   "source": [
    "!wc -l {All_genomes}/{N_max}_bp/*"
   ]
  },
  {
   "cell_type": "markdown",
   "id": "97892609-f8bb-4368-bb83-e0b9d67f53fe",
   "metadata": {},
   "source": [
    "Create a file with equal number of ex, in, iner"
   ]
  },
  {
   "cell_type": "code",
   "execution_count": 8,
   "id": "1cfc8692-0523-41bf-97c5-633355c69ff2",
   "metadata": {},
   "outputs": [
    {
     "name": "stdout",
     "output_type": "stream",
     "text": [
      "99999 /home/lieberze/DP/Thesis/model_training/data/All_genomes_100K_lines/512_bp/All_equal.txt\n"
     ]
    }
   ],
   "source": [
    "!shuf -n {Equal_part} {All_genomes}/{N_max}_bp/exons.txt > {All_genomes}/{N_max}_bp/All_equal.txt\n",
    "!shuf -n {Equal_part} {All_genomes}/{N_max}_bp/introns.txt >> {All_genomes}/{N_max}_bp/All_equal.txt\n",
    "!shuf -n {Equal_part} {All_genomes}/{N_max}_bp/intergenic.txt >> {All_genomes}/{N_max}_bp/All_equal.txt\n",
    "!wc -l {All_genomes}/{N_max}_bp/All_equal.txt"
   ]
  },
  {
   "cell_type": "markdown",
   "id": "ff4de3d2-971e-4193-b14b-1fab81dd2e2f",
   "metadata": {},
   "source": [
    "Shuffle file with random seed"
   ]
  },
  {
   "cell_type": "code",
   "execution_count": 9,
   "id": "78f982c6-d4bd-49ab-b05b-b5126d07567c",
   "metadata": {},
   "outputs": [],
   "source": [
    "%%bash -s \"$All_genomes\" \"$N_max\"\n",
    "get_seeded_random()\n",
    "{\n",
    "  seed=\"$1\"\n",
    "  openssl enc -aes-256-ctr -pass pass:\"$seed\" -nosalt \\\n",
    "    </dev/zero 2>/dev/null\n",
    "}\n",
    "\n",
    "shuf ${1}/${2}_bp/All_equal.txt --random-source=<(get_seeded_random 42) > ${1}/${2}_bp/All_equal_shuffled.txt"
   ]
  },
  {
   "cell_type": "markdown",
   "id": "fff1e683-edc9-44b3-ae37-286a08606a5c",
   "metadata": {},
   "source": [
    "**IMPORTANT CHUNK, CHECK OUTPUT** Numbers should be equal, otherwise the size of input file should be enlarged"
   ]
  },
  {
   "cell_type": "code",
   "execution_count": 10,
   "id": "c6590fd6-26c3-419b-a3f2-5f3a4f88800b",
   "metadata": {},
   "outputs": [
    {
     "name": "stdout",
     "output_type": "stream",
     "text": [
      "The number of lines is equal to the desired number. We obtained the required result.\n"
     ]
    }
   ],
   "source": [
    "len1 = Equal_part*3\n",
    "len2 = !wc -l {All_genomes}/{N_max}_bp/All_equal_shuffled.txt\n",
    "len2 = int(str(len2).split()[0].split('\\'')[1])\n",
    "\n",
    "if len1 == len2:\n",
    "    print(\"The number of lines is equal to the desired number. We obtained the required result.\")\n",
    "else:\n",
    "    print(f\"The number of lines is smaller than the desired. Please, use larger input file instead of {All_genomes_file}.\")"
   ]
  },
  {
   "cell_type": "code",
   "execution_count": 12,
   "id": "c09f6659-0bf5-4c65-9bda-af5d2de8fdfa",
   "metadata": {},
   "outputs": [],
   "source": [
    "# ! cat {All_genomes}/{N_max}_bp/All_equal_shuffled.txt | head"
   ]
  }
 ],
 "metadata": {
  "kernelspec": {
   "display_name": "Python 3",
   "language": "python",
   "name": "python3"
  },
  "language_info": {
   "codemirror_mode": {
    "name": "ipython",
    "version": 3
   },
   "file_extension": ".py",
   "mimetype": "text/x-python",
   "name": "python",
   "nbconvert_exporter": "python",
   "pygments_lexer": "ipython3",
   "version": "3.6.12"
  }
 },
 "nbformat": 4,
 "nbformat_minor": 5
}
