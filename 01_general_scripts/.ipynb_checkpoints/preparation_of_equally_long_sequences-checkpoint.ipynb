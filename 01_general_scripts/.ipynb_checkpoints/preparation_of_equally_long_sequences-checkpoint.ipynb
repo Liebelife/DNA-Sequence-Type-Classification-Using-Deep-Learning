{
 "cells": [
  {
   "cell_type": "markdown",
   "id": "9254e0b6-3d37-4a1e-8fd9-97850969c93c",
   "metadata": {},
   "source": [
    "# Preparation of equally long sequences"
   ]
  },
  {
   "cell_type": "markdown",
   "id": "0d013132-3042-4a13-88a5-02206e48ea40",
   "metadata": {},
   "source": [
    "Following code helps to create equally long exons, introns and intergenic sequences.\n",
    "Unfortunately I deleted the original file so this is just and overview of the train of thoughts.\n",
    "\n",
    "We separate all exons, introns and intergenic sequences. Then we strip newlines. Then we split by 512 bp"
   ]
  },
  {
   "cell_type": "code",
   "execution_count": null,
   "id": "4826f147-8e00-4a3d-957d-701cac511ee8",
   "metadata": {},
   "outputs": [],
   "source": [
    "cat Equus_caballus_introns_exons_intergenic_no_duplicates_without_N.txt | grep exon | cut -f5 | awk '{print length}' > lengths_of_exons.txt\n",
    "cat lengths_of_exons.txt | awk '$1>500' | wc -l   \n",
    "head Sus_scrofa_introns_exons_intergenic_no_duplicates_without_N.txt | grep exon | cut -f5 | awk '{print length}' > lengths_of_exons.txt\n",
    "\n",
    "tr -d '\\n' < all_exons.txt > all_exons_no_newlines.txt\n",
    "tr -d '\\n' < all_introns.txt > all_introns_no_newlines.txt\n",
    "\n",
    "sed -e \"s/.\\{512\\}/&\\n/g\" < all_intergenic_no_newlines.txt > all_intergenic_512.txt\n",
    "\n",
    "fold -w 512 < all_introns_no_newlines.txt > all_introns_512.txt\n",
    "cat all_exons_512.txt | awk '{print \"exon\\t\" $0}' > newfile && mv newfile all_exons_512.txt\n"
   ]
  },
  {
   "cell_type": "markdown",
   "id": "aff788d3-4ef6-4f49-87e5-bfb1d78b9e08",
   "metadata": {},
   "source": [
    "Preparation for binary classification (2x2)"
   ]
  },
  {
   "cell_type": "code",
   "execution_count": 2,
   "id": "2baa1d4a-578f-4ee9-bc0c-276fc7825823",
   "metadata": {},
   "outputs": [],
   "source": [
    "grep \"exon\" All_500k.txt | tail -100000 > 2x2_100k.txt\n",
    "grep \"intron\" All_500k.txt | tail -50000 >> 2x2_100k.txt\n",
    "grep \"intergenic\" All_500k.txt | tail -50000 >> 2x2_100k.txt\n",
    "wc -l 2x2_100k.txt\n",
    "\n",
    "# a zamichat\n",
    "shuf 2x2_100k.txt > 2x2_100k_shuffled.txt"
   ]
  }
 ],
 "metadata": {
  "kernelspec": {
   "display_name": "Python 3",
   "language": "python",
   "name": "python3"
  },
  "language_info": {
   "codemirror_mode": {
    "name": "ipython",
    "version": 3
   },
   "file_extension": ".py",
   "mimetype": "text/x-python",
   "name": "python",
   "nbconvert_exporter": "python",
   "pygments_lexer": "ipython3",
   "version": "3.6.13"
  }
 },
 "nbformat": 4,
 "nbformat_minor": 5
}
