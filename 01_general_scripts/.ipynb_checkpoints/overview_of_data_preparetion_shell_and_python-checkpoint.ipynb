{
 "cells": [
  {
   "cell_type": "markdown",
   "id": "65e0ddfa-7e91-49bf-b317-02d1b8396b08",
   "metadata": {},
   "source": [
    "### This file serves as an overview of the code necessary to be run to obtain data files\n",
    "\n",
    "it is better to run the shell scripts from command line\n",
    "\n",
    "every cell is put in *raw* format to be safe from running it on accident"
   ]
  },
  {
   "cell_type": "raw",
   "id": "c976ced5-74db-4ae0-8795-284277907f9b",
   "metadata": {},
   "source": [
    "names = [\n",
    "        'Mus_musculus',                \n",
    "        'Monodelphis_domestica',       \n",
    "        'Sus_scrofa',                  \n",
    "        'Felis_catus',                 \n",
    "        'Bos_taurus',                  \n",
    "        'Equus_caballus', \n",
    "        'Canis_lupus_familiaris',     \n",
    "        'Rattus_norvegicus', \n",
    "        'Ovis_aries',      \n",
    "        'Ornitohoryhynchus_anatinus']"
   ]
  },
  {
   "cell_type": "markdown",
   "id": "930f5616-894f-4e08-b4a0-57cc89a5de2d",
   "metadata": {},
   "source": [
    "**download_files.sh** - to download genomes in .fna form and their .gff (the ones listed above) do a folder data (run script from the DP folder)"
   ]
  },
  {
   "cell_type": "raw",
   "id": "fdba84d0-5ff6-4251-81fd-7633aacd9797",
   "metadata": {},
   "source": [
    "%%bash\n",
    "cat download_gff_fna.txt | while read line \n",
    "do\n",
    "   wget -P data $line\n",
    "done"
   ]
  },
  {
   "cell_type": "markdown",
   "id": "dbd37e68-8d9b-4865-aa8b-db609ca23004",
   "metadata": {},
   "source": [
    "**rename_files.sh** - rename gff and fna files in the data folder and unzip them\n"
   ]
  },
  {
   "cell_type": "raw",
   "id": "544f1690-09a8-4875-a96b-4c813d473ada",
   "metadata": {},
   "source": [
    "%% bash\n",
    "DATAFILE=data/\n",
    "\n",
    "rename ${DATAFILE}GCF_000001635.27_GRCm39_genomic ${DATAFILE}Mus_musculus ${DATAFILE}GCF_000001635.27_GRCm39_genomic*\n",
    "rename ${DATAFILE}GCF_000003025.6_Sscrofa11.1_genomic ${DATAFILE}Sus_scrofa ${DATAFILE}GCF_000003025.6_Sscrofa11.1_genomic*\n",
    "rename ${DATAFILE}GCF_000181335.3_Felis_catus_9.0_genomic ${DATAFILE}Felis_catus ${DATAFILE}GCF_000181335.3_Felis_catus_9.0_genomic*\n",
    "rename ${DATAFILE}GCF_002263795.1_ARS-UCD1.2_genomic ${DATAFILE}Bos_taurus\t ${DATAFILE}GCF_002263795.1_ARS-UCD1.2_genomic*\n",
    "rename ${DATAFILE}GCF_002863925.1_EquCab3.0_genomic ${DATAFILE}Equus_caballus ${DATAFILE}GCF_002863925.1_EquCab3.0_genomic*\n",
    "rename ${DATAFILE}GCF_014441545.1_ROS_Cfam_1.0_genomic ${DATAFILE}Canis_lupus_familiaris ${DATAFILE}GCF_014441545.1_ROS_Cfam_1.0_genomic*\n",
    "rename ${DATAFILE}GCF_015227675.2_mRatBN7.2_genomic ${DATAFILE}Rattus_norvegicus ${DATAFILE}GCF_015227675.2_mRatBN7.2_genomic*\n",
    "rename ${DATAFILE}GCF_016772045.1_ARS-UI_Ramb_v2.0_genomic ${DATAFILE}Ovis_aries\t ${DATAFILE}GCF_016772045.1_ARS-UI_Ramb_v2.0_genomic*\n",
    "rename ${DATAFILE}GCF_004115215.2_mOrnAna1.pri.v4_genomic ${DATAFILE}Ornitohoryhynchus_anatinus ${DATAFILE}GCF_004115215.2_mOrnAna1.pri.v4_genomic.*\n",
    "rename ${DATAFILE}GCF_000002295.2_MonDom5_genomic ${DATAFILE}Monodelphis_domestica ${DATAFILE}GCF_000002295.2_MonDom5_genomic.*\n",
    "\n",
    "cd ${DATAFILE}\n",
    "gunzip *.gz"
   ]
  },
  {
   "cell_type": "markdown",
   "id": "b6d973d9-83a9-4c0e-acba-f99c406a194f",
   "metadata": {},
   "source": [
    "**add_introns.sh** - adds introns to .fna files in /data/ to /data/with_introns/\\*.gff using the AGAT tool ('conda activate agat' needed)"
   ]
  },
  {
   "cell_type": "raw",
   "id": "c6a6fbdb-2b82-46e0-89b8-cd9c77b60188",
   "metadata": {},
   "source": [
    "%%bash\n",
    "conda activate agat\n",
    "\n",
    "for i in data/*.gff; do\n",
    "\ta=`echo $i | cut -d \"/\" -f 2 | cut -d \".\" -f 1`\n",
    "\tagat_sp_add_introns.pl --gff $i --out data/with_introns/${a}_with_introns.gff\n",
    "done"
   ]
  },
  {
   "cell_type": "markdown",
   "id": "c430e051-ca01-4457-a921-9f7bb7e7e680",
   "metadata": {},
   "source": [
    "**get_intron_exon_coordinates.sh** - used in the get_coordinates_for_all_gff.sh script\n",
    "\n",
    "**get_coordinates_for_all_gff.sh** - to create data/with_introns/*_simplified.txt file containing chromosome number, start and stop sequence for introns and exons"
   ]
  },
  {
   "cell_type": "raw",
   "id": "16cd94ad-0dcb-4005-be10-ff18354cb7d5",
   "metadata": {},
   "source": [
    "%% bash\n",
    "# greps word \"exon\" and \"intron\" in .gff file with added exons (passed as an argument when calling this script)\n",
    "# cuts the 1st, 3rd, 4th and 5th column in grepped line\n",
    "# these are gene number, annotation (intron/exon) the start and stop of intron/exon coordinates\n",
    "# saves the exon coordinates to a new file $1_exons.txt\n",
    "\n",
    "a=`echo $1 | cut -d \"/\" -f 3 | cut -d \".\" -f 1`\n",
    "cat $1 | cut -f 1,3,4,5 | grep -e \"intron\" -e \"exon\" > data/with_introns/${a}_simplified.txt"
   ]
  },
  {
   "cell_type": "raw",
   "id": "7b9e2b7b-cad8-4e59-b686-c8bbbf37a3ae",
   "metadata": {},
   "source": [
    "%% bash\n",
    "for i in data/with_introns/*.gff; do\n",
    "\t./get_intron_exon_coordinates.sh $i\n",
    "done"
   ]
  },
  {
   "cell_type": "markdown",
   "id": "bdb8d08b-b941-459c-b69e-03deec18951b",
   "metadata": {},
   "source": [
    "**select_chromosomes.sh**  - get chromosome names from .fna (tvori data/chromosomes/\\*_chr.txt)\n",
    "in .gff file there is a list of chromosomes (starting with NC_), MT DNA (NC_006853.1) and unmatched scaffolds (starting with NW_). We want only the NC_ lines"
   ]
  },
  {
   "cell_type": "raw",
   "id": "23dcc9af-537f-4fb6-84e2-758a78c76b92",
   "metadata": {},
   "source": [
    "%%bash\n",
    "for i in data/with_introns/*.txt; do\n",
    "\ta=`echo $i | cut -d \"/\" -f 3 | cut -d \".\" -f 1`\n",
    "\tgrep \"^NC\" $i | cut -f 1 | sort -u > data/chromosomes/${a}_chr.txt\n",
    "done"
   ]
  },
  {
   "cell_type": "markdown",
   "id": "7013b50d-949f-4f4d-9fd0-f8541634ad04",
   "metadata": {},
   "source": [
    "**\\+ now remove the MT chromosomes by hand**\n",
    "- canis lupus nothing to remove\n",
    "- Monodelphis_domestica NC_006299.1\n",
    "- Ornithorhynchus_anatinus NC_000891.1\n",
    "- Equus_caballus NC_001640.1\n",
    "- Ovis_aries  NC_001941.1\n",
    "- Sus_strofa NC_000845.1\n",
    "- Bos_taurus NC_006853.1\n",
    "- Rattus_norvegicus NC_001665.2\n",
    "- Felis_catus NC_001700.1\n",
    "- Mus_musculus NC_005089.1"
   ]
  },
  {
   "cell_type": "markdown",
   "id": "ac361e4e-65e2-46cf-90a7-28fbbda3ee49",
   "metadata": {},
   "source": [
    "**filter_chromosome_names.py** - filters the lines chr, start, stop into a new file where only selected chromosomes are present (creates data/chromosomes/\\*_with_introns_simplified_chr_only.txt) - use the script for looping over all files (./filter_fasta_for_all.sh filter_chromosome_names.py )"
   ]
  },
  {
   "cell_type": "raw",
   "id": "8136afdf-eccb-45a1-9f57-7df977a48d5d",
   "metadata": {},
   "source": [
    "# run from  ~/DP:\n",
    "# example:\n",
    "# python3 filter_chromosome_names.py Sus_scrofa\n",
    "\n",
    "import sys\n",
    "chr_filename = sys.argv[1]\n",
    "\n",
    "# get wanted chromosome names to a list (from a file)\n",
    "chromosome_names = []\n",
    "with open(\"data/chromosomes/\" + chr_filename + \"_with_introns_simplified_chr.txt\", \"r\") as chr_file:\n",
    "\tfor line in chr_file:\n",
    "\t\tline = line.strip()\n",
    "\t\tchromosome_names.append(line)\n",
    "print(chromosome_names)\n",
    "\n",
    "# now for the \"*_simplified.txt\" ones\n",
    "# filter a file based on names from the list made above\n",
    "with open(\"data/with_introns/\" + chr_filename +  \"_with_introns_simplified.txt\", \"r\") as gff_file, \\\n",
    "\t\topen(\"data/chromosomes/\" + chr_filename + \"_with_introns_simplified_chr_only.txt\", \"w\") as only_chr_file:\n",
    "\tfor line in gff_file:\n",
    "\t\tline = line.strip()\n",
    "\t\tchr_num = line.split()[0]\n",
    "\t\tif chr_num in chromosome_names:\n",
    "\t\t\tonly_chr_file.write(line + \"\\n\")"
   ]
  },
  {
   "cell_type": "markdown",
   "id": "918aa65d-a725-4d1c-957e-37856bad6f47",
   "metadata": {},
   "source": [
    "**remove_duplicated_lines.py** - removes duplicate lines in the chromosome number, start and stop .txt file (from data/chromosomes/\\*_with_introns_simplified_chr_only.txt saves to data/chromosomes/\\*with_introns_simplified_chr_only_no_duplicates.txt)   "
   ]
  },
  {
   "cell_type": "raw",
   "id": "0722d13f-9d30-45db-a949-165dc2e30e3b",
   "metadata": {},
   "source": [
    "import sys\n",
    "species_name = sys.argv[1]\n",
    "\n",
    "with open(\"data/chromosomes/\" + species_name + \"_with_introns_simplified_chr_only.txt\", \"r\") as file_in,\\\n",
    "\topen(\"data/chromosomes/\" + species_name + \"_with_introns_simplified_chr_only_no_duplicates.txt\", \"w\") as file_out:\n",
    "\tlines_seen = set() # holds lines already seen\n",
    "\tfor line in file_in:\n",
    "\t    if line not in lines_seen: # not a duplicate\n",
    "\t        file_out.write(line)\n",
    "\t        lines_seen.add(line)"
   ]
  },
  {
   "cell_type": "markdown",
   "id": "8c838198-a94f-4744-ba50-44a7492c4160",
   "metadata": {},
   "source": [
    "**remove_duplicated_lines_for_all.sh** - uses remove_duplicated_lines.py script for all"
   ]
  },
  {
   "cell_type": "raw",
   "id": "18242c77-c26f-476b-a24c-93a93337a12d",
   "metadata": {},
   "source": [
    "%% bash\n",
    "for i in data/*.gff; do\n",
    "\tname=`echo $i | cut -d \"/\" -f 2 | cut -d \".\" -f 1`\n",
    "\tpython3 remove_duplicated_lines.py $name\n",
    "done"
   ]
  },
  {
   "cell_type": "markdown",
   "id": "f200998f-c518-4e88-b490-65d568564ed8",
   "metadata": {},
   "source": [
    "**filter_fasta.py**  - saves results to ~/DP/data/ready_to_use. adds the fasta sequence of introns and exons to the .txt file data/ready_to_use/\\*_no_duplicates.txt\""
   ]
  },
  {
   "cell_type": "raw",
   "id": "230cbbb2-dd7b-4169-a958-61588d40f24d",
   "metadata": {},
   "source": [
    "#!bin/python3\n",
    "#encoding=\"UTF8\"\n",
    "\n",
    "# running the code example:\n",
    "# from ~/DP/\n",
    "# python3 filter_fasta.py Sus_scrofa\n",
    "\n",
    "# saves results to ~/DP/data/ready_to_use\n",
    "\n",
    "import sys\n",
    "\n",
    "species_name = sys.argv[1]\n",
    "\n",
    "# load chromosome numbers (only)\n",
    "# example file Sus_scrofa_with_introns_simplified_chr.txt\n",
    "chr_list = []\n",
    "with open(\"data/chromosomes/\" + species_name + \"_with_introns_simplified_chr.txt\", \"r\") as file:\n",
    "\t\tfor line in file:\n",
    "\t\t\tline = line.strip()\n",
    "\t\t\tchr_list.append(line)\n",
    "\n",
    "# load chromosome sequences to a dictionary\n",
    "chromosome_list = {}\n",
    "with open(\"data/\" + species_name + \".fna\", \"r\") as fasta:\n",
    "\tsequence = \"\"\n",
    "\tchr_name_saved = \"\"\n",
    "\twrite_sequence = False\n",
    "\tfor line in fasta:\n",
    "\t\tline = line.strip()\n",
    "\t\tif line.startswith(\">\"):\n",
    "\t\t\tchr_name = line.split()[0].strip(\">\")\n",
    "\t\t\tif chr_name_saved == \"\": \n",
    "\t\t\t\tif chr_name in chr_list:\n",
    "\t\t\t\t\twrite_sequence = True\n",
    "\t\t\t\t\tchr_name_saved = chr_name\n",
    "\t\t\t\t\tsequence = \"\"\n",
    "\t\t\t# case: saving a new name:sequence pair to dictionary\n",
    "\t\t\telse:\n",
    "\t\t\t\tchromosome_list[chr_name_saved] = sequence\n",
    "\t\t\t\tif chr_name in chr_list:\n",
    "\t\t\t\t\tchr_name_saved = chr_name\n",
    "\t\t\t\t\twrite_sequence = True\n",
    "\t\t\t\t\tsequence = \"\"\n",
    "\t\t\t\telse:\n",
    "\t\t\t\t\twrite_sequence = False\n",
    "\t\t\t\t\tchr_name_saved = \"\"\n",
    "\t\telse:\n",
    "\t\t\tif write_sequence == True:\n",
    "\t\t\t\tsequence += line\n",
    "# for k,v in chromosome_list.items():\n",
    "# \tprint(k,v[-100:])\n",
    "\n",
    "\n",
    "# NC_010462.3     exon    148946  149214\n",
    "# NC_010462.3     exon    150486  150574\n",
    "all_exons = 0\n",
    "all_introns = 0\n",
    "problematic_exons = 0\n",
    "problematic_introns = 0\n",
    "with open(\"data/chromosomes/\" + species_name + \"_with_introns_simplified_chr_only_no_duplicates.txt\", \"r\") as extracted_gff,\\\n",
    "\topen(\"data/ready_to_use/\" + species_name + \"_no_duplicates.txt\", \"w\") as file_out,\\\n",
    "\topen(\"data/ready_to_use/\" + species_name + \"_error_info_no_duplicates.txt\", \"w\") as file_error:\n",
    "\tfor line in extracted_gff:\n",
    "\t\tline = line.strip()\n",
    "\n",
    "\t\tline_split = line.split()\n",
    "\t\tchr_number = line_split[0]\n",
    "\t\tidentifier = line_split[1]\n",
    "\t\tstart = int(line_split[2])\n",
    "\t\tstop = int(line_split[3])\n",
    "\n",
    "\t\t# start - 1 kvuli indexaci od 1\n",
    "\t\tsequence = chromosome_list[chr_number][start-1:stop]\n",
    "\t\tif identifier == \"exon\":\n",
    "\t\t\tall_exons += 1\n",
    "\t\t\tif \"N\" in sequence:\n",
    "\t\t\t\tproblematic_exons += 1\n",
    "\t\t\t\tfile_error.write(\"POZOR, máme 'N' v sekvenci:\\n\" + line + sequence + \"\\n\")\n",
    "\t\telse:\n",
    "\t\t\tall_introns += 1\n",
    "\t\t\tif \"N\" in sequence:\n",
    "\t\t\t\tproblematic_introns += 1\n",
    "\t\tfile_out.write(line + \"\\t\" + sequence + \"\\n\")\n",
    "\n",
    "\texon_report = f\"pocet exonu obsahujicich N: {problematic_exons} ({(problematic_exons/all_exons) * 100} %)\"\n",
    "\tprint(exon_report)\n",
    "\tfile_error.write(exon_report+\"\\n\")\n",
    "\n",
    "\tintron_report = f\"pocet intronu obsahujicich N: {problematic_introns} ({(problematic_introns/all_introns) * 100} %)\"\n",
    "\tprint(intron_report)\n",
    "\tfile_error.write(intron_report+\"\\n\")"
   ]
  },
  {
   "cell_type": "markdown",
   "id": "7a8f3f84-8e85-4564-998b-fa50cd50e14a",
   "metadata": {},
   "source": [
    "**filter_fasta_for_all.sh**  - use: ./filter_fasta_for_all.sh filter_fasta.py"
   ]
  },
  {
   "cell_type": "raw",
   "id": "abe0828b-9b1f-43bb-8fae-a26c65ae529a",
   "metadata": {},
   "source": [
    "%%bash\n",
    "command=$1\n",
    "for i in data/*.fna; do\n",
    "\tname=`echo $i | cut -d \"/\" -f 2 | cut -d \".\" -f 1`\n",
    "\techo $name\n",
    "\tpython3 $command $name\n",
    "done\n"
   ]
  },
  {
   "cell_type": "markdown",
   "id": "f2496194-eb6c-4296-b632-648e34af351a",
   "metadata": {},
   "source": [
    "**filter_N_free_fasta.py** - filters out exons and introns containing \"N\" and creates a report of how many sequences (absolute numbers and also % were removed). To run for all use *filter_fasta_for_all.sh* with the sript name as an argument)\n",
    "\n",
    "**filter_fasta_report.txt**  - contains info about previous script run"
   ]
  },
  {
   "cell_type": "raw",
   "id": "c95611bc-d7c2-49ef-96f7-4595cd748081",
   "metadata": {},
   "source": [
    "import sys\n",
    "\n",
    "# run from cmd ~/DP/ and save report to file *.txt:\n",
    "# ./filter_fasta_for_all.sh python3 filter_N_free_fasta.py > N_free_report.txt\n",
    "\n",
    "species_name = sys.argv[1]\n",
    "\n",
    "deleted_lines = 0\n",
    "all_lines = 0\n",
    "with open(\"data/ready_to_use/\" + species_name + \"_no_duplicates.txt\", \"r\") as file_in,\\\n",
    "\topen(\"data/ready_to_use/without_N/\" + species_name + \"_no_duplicates_without_N.txt\", \"w\") as file_out:\n",
    "\t\tfor line in file_in:\n",
    "\t\t\tline = line.strip()\n",
    "\t\t\tline_list = line.split()\n",
    "\t\t\tall_lines += 1\n",
    "\n",
    "\t\t\tif len(line_list) < 5: # intron dlouhy 1? proste chybi sekvence\n",
    "\t\t\t\tdeleted_lines += 1\n",
    "\t\t\telse:\n",
    "\t\t\t\tsequence = line_list[4]\n",
    "\t\t\t\tif \"N\" not in sequence:\n",
    "\t\t\t\t\tfile_out.write(line + \"\\n\")\n",
    "\t\t\t\telse:\n",
    "\t\t\t\t\tdeleted_lines += 1\n",
    "print(f\"smazano {deleted_lines} sekvenci, celkem {deleted_lines/all_lines * 100} %\")"
   ]
  },
  {
   "cell_type": "markdown",
   "id": "15760bec-475f-465c-a309-f832a21c7070",
   "metadata": {},
   "source": [
    "**order_introns_exons.py** - **NOT NEEDED** (solved with the following one-liner .sh script order_introns_exons_for_all.sh :)))\n",
    "\n",
    "**order_introns_exons_for_all.sh** - sorts exons and exons according to their start coordinate and chromosome number (data preparation for transformer)"
   ]
  },
  {
   "cell_type": "raw",
   "id": "a003480c-7496-43ef-a92d-9e017f929ce5",
   "metadata": {},
   "source": [
    "%%bash\n",
    "command=$1\n",
    "for i in data/*.fna; do\n",
    "\tname=`echo $i | cut -d \"/\" -f 2 | cut -d \".\" -f 1`\n",
    "\taddress=data/ready_to_use/without_N/\n",
    "\tsort -k1,1r -k3,3n ${address}${name}_no_duplicates_without_N.txt > ${address}/sorted_introns_exons/${name}_no_duplicates_without_N_sorted.txt\n",
    "done"
   ]
  },
  {
   "cell_type": "markdown",
   "id": "058001ed-8902-4749-a101-bac7980991b8",
   "metadata": {},
   "source": [
    "**Intergenic_data_preparation.ipynb** - to add intergenic sequences. Quite a long ipynb, not copied here. See the separate file."
   ]
  },
  {
   "cell_type": "markdown",
   "id": "4e9323fb-41a0-4640-b8c8-953413dbe2ec",
   "metadata": {},
   "source": [
    "pouzitelna data ulozena v data/ready_to_use/without_N/sorted_introns_exons_intergenic/"
   ]
  }
 ],
 "metadata": {
  "kernelspec": {
   "display_name": "Python 3",
   "language": "python",
   "name": "python3"
  },
  "language_info": {
   "codemirror_mode": {
    "name": "ipython",
    "version": 3
   },
   "file_extension": ".py",
   "mimetype": "text/x-python",
   "name": "python",
   "nbconvert_exporter": "python",
   "pygments_lexer": "ipython3",
   "version": "3.6.13"
  }
 },
 "nbformat": 4,
 "nbformat_minor": 5
}
