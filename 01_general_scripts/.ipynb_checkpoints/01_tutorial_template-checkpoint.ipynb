{
 "cells": [
  {
   "cell_type": "code",
   "execution_count": 9,
   "metadata": {},
   "outputs": [],
   "source": [
    "# from pathlib import Path\n",
    "\n",
    "# from tokenizers import ByteLevelBPETokenizer\n",
    "# from tokenizers.processors import BertProcessing\n",
    "\n",
    "# import torch\n",
    "# from torch.utils.data.dataset import Dataset"
   ]
  },
  {
   "cell_type": "code",
   "execution_count": 12,
   "metadata": {},
   "outputs": [
    {
     "name": "stdout",
     "output_type": "stream",
     "text": [
      "NC_010462.3\texon\t148946\t149214\tTGGGGGCGGAGCCGGGCGGCGGGTCAGAGCCCCAAGGCCTCCGCGTGCTTGCGTGCCTTCAGCCGCAGGTCGGCGATACTGGAGTTCTTGCTGTTGCTCTTGGCGGCGGCGGCCACCACGGCGGCCGCCGAGGCCGACTCGGCCAGGGACGCGATGGGCAGCCCAAAGGGCGGCGGCGGGAACATCAGGTAGGGCGCATGAGCCGCCAGGTGCGGGTGCAGGTGCGGGTGAGCGTGCGCCACGCCTTCCAGCTGCAGCTGCGCCTGGAC\n",
      "\n"
     ]
    }
   ],
   "source": [
    "# with open(\"tokenization/Sus_scrofa_sample_100MB.txt\", \"r\") as file:\n",
    "#     print(file.readline())"
   ]
  },
  {
   "cell_type": "code",
   "execution_count": 13,
   "metadata": {},
   "outputs": [],
   "source": [
    "from tokenizers import Tokenizer\n",
    "from tokenizers.models import BPE\n",
    "# instantiate class with BPE model\n",
    "tokenizer = Tokenizer(BPE(unk_token=\"[UNK]\"))"
   ]
  },
  {
   "cell_type": "code",
   "execution_count": 14,
   "metadata": {},
   "outputs": [],
   "source": [
    "from tokenizers.trainers import BpeTrainer\n",
    "# instantiate a trainer to train our tokenizer\n",
    "# We can set the training arguments like vocab_size or min_frequency\n",
    "trainer = BpeTrainer(special_tokens=[\"[UNK]\", \"[CLS]\", \"[SEP]\", \"[PAD]\", \"[MASK]\"],\\\n",
    "    vocab_size=20000)"
   ]
  },
  {
   "cell_type": "code",
   "execution_count": 15,
   "metadata": {},
   "outputs": [],
   "source": [
    "from tokenizers.pre_tokenizers import Whitespace\n",
    "# # we will use the easiest pre-tokenizer possible by splitting on whitespace\n",
    "tokenizer.pre_tokenizer = Whitespace()"
   ]
  },
  {
   "cell_type": "code",
   "execution_count": null,
   "metadata": {},
   "outputs": [],
   "source": [
    "dataset = [\"tokenization/small_batches/data_small/seq_train_small.raw\"]\n",
    "tokenizer.train(dataset, trainer)"
   ]
  },
  {
   "cell_type": "code",
   "execution_count": null,
   "metadata": {},
   "outputs": [],
   "source": [
    "# # save the tokenizer\n",
    "tokenizer.save(\"tokenization/small_batches/data_small/tokenizer-seq-small_test_jupyter.json\")"
   ]
  }
 ],
 "metadata": {
  "kernelspec": {
   "display_name": "Python 3",
   "language": "python",
   "name": "python3"
  },
  "language_info": {
   "codemirror_mode": {
    "name": "ipython",
    "version": 3
   },
   "file_extension": ".py",
   "mimetype": "text/x-python",
   "name": "python",
   "nbconvert_exporter": "python",
   "pygments_lexer": "ipython3",
   "version": "3.6.12"
  }
 },
 "nbformat": 4,
 "nbformat_minor": 4
}
