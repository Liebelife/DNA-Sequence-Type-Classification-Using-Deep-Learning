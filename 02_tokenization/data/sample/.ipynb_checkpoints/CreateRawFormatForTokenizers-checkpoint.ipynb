{
 "cells": [
  {
   "cell_type": "markdown",
   "id": "27ac6afa-bf73-45bb-a6ac-3df5effd3640",
   "metadata": {
    "tags": []
   },
   "source": [
    "# CreateRawFormatForTokenizers"
   ]
  },
  {
   "cell_type": "code",
   "execution_count": 1,
   "id": "b40ea388-095c-47cb-9078-b6b46ea728b4",
   "metadata": {},
   "outputs": [
    {
     "name": "stdout",
     "output_type": "stream",
     "text": [
      "/home/lieberze/DP/Thesis/tokenizery_2_attempt/data/sample\n"
     ]
    }
   ],
   "source": [
    "import os\n",
    "\n",
    "RootFolder = \"\"\n",
    "print(os.getcwd())"
   ]
  },
  {
   "cell_type": "markdown",
   "id": "aea7ea64-e176-4ead-b41c-405535c79101",
   "metadata": {
    "tags": []
   },
   "source": [
    "## Functions"
   ]
  },
  {
   "cell_type": "code",
   "execution_count": 2,
   "id": "e0cce3ec-d17f-460f-98e6-fd09d1392ce9",
   "metadata": {},
   "outputs": [],
   "source": [
    "def ExtractSequencesAndWriteInAFile(FilePath, PathToSave, NewFileName):\n",
    "    with open(FilePath, \"r\") as file_in,\\\n",
    "        open(f\"{PathToSave}/{NewFileName}.raw\", \"w\") as file_out:\n",
    "        for line in file_in:\n",
    "            LineSplit = line.strip().split()\n",
    "            Seq = LineSplit[-1]\n",
    "            file_out.write(Seq + \"\\n\")"
   ]
  },
  {
   "cell_type": "markdown",
   "id": "f95d50a2-2257-4db4-a61b-1d46dc8aaec5",
   "metadata": {
    "tags": []
   },
   "source": [
    "## Create .raw files"
   ]
  },
  {
   "cell_type": "markdown",
   "id": "4359908c-5486-45a1-8cc7-c9a8fa727940",
   "metadata": {
    "tags": []
   },
   "source": [
    "### All_genomes, 118MB, introns, exons, intergenic"
   ]
  },
  {
   "cell_type": "code",
   "execution_count": 11,
   "id": "baeda5a9-1d5c-4d2d-98f3-320446f106d7",
   "metadata": {},
   "outputs": [],
   "source": [
    "RootFolder = \"\"\n",
    "All_genomes_sample = os.path.abspath(os.path.join(RootFolder, 'All_genomes_sample/'))\n",
    "All_genomes_sample_original = os.path.abspath(os.path.join(All_genomes_sample, 'original/All_200k_tail_for_tokenizer.txt'))\n",
    "# new file\n",
    "All_genomes_sample_raw = os.path.abspath(os.path.join(All_genomes_sample, 'All_200k_tail_for_tokenizer_512bp.raw'))"
   ]
  },
  {
   "cell_type": "markdown",
   "id": "24851103-df63-47f5-816c-9fa7c69c2a25",
   "metadata": {},
   "source": [
    "Create general uncut sequence-only-file.raw"
   ]
  },
  {
   "cell_type": "code",
   "execution_count": 4,
   "id": "1d4a21eb-b41c-493d-b6eb-f07c130f2bde",
   "metadata": {},
   "outputs": [],
   "source": [
    "ExtractSequencesAndWriteInAFile(All_genomes_sample_original, All_genomes_sample, \"All_genomes_sample_1000bp\")"
   ]
  },
  {
   "cell_type": "code",
   "execution_count": 5,
   "id": "ca1c90e9-43a0-4ce2-8315-5ba45388ad32",
   "metadata": {},
   "outputs": [],
   "source": [
    "# ! cat All_genomes_sample/All_genomes_sample_1000bp.raw | head"
   ]
  },
  {
   "cell_type": "markdown",
   "id": "4e57119e-2471-4aba-8eb7-eb28113fd054",
   "metadata": {
    "tags": []
   },
   "source": [
    "#### sort into files by sequence type"
   ]
  },
  {
   "cell_type": "code",
   "execution_count": 6,
   "id": "038e202e-ddcb-4ea2-b478-9a432f5b57a1",
   "metadata": {},
   "outputs": [],
   "source": [
    "RootFolder = \"\"\n",
    "# All_genomes_sample = os.path.abspath(os.path.join(RootFolder, 'All_genomes_sample/'))\n",
    "# All_genomes_sample_original = os.path.abspath(os.path.join(All_genomes_sample, 'original/All_equal_shuffled_1000bp.txt'))\n",
    "# # new file\n",
    "# All_genomes_sample_raw = os.path.abspath(os.path.join(All_genomes_sample, 'All_genomes_sample_1000bp.raw'))"
   ]
  },
  {
   "cell_type": "code",
   "execution_count": 12,
   "id": "e026f063-6f91-448f-8a36-02a9a78d945d",
   "metadata": {},
   "outputs": [],
   "source": [
    "PathToSave = All_genomes_sample\n",
    "NumberOf_bp = 512\n",
    "with open(All_genomes_sample_original, \"r\") as file_in,\\\n",
    "    open(f\"{PathToSave}/exons_{NumberOf_bp}.raw\", \"w\") as exons,\\\n",
    "    open(f\"{PathToSave}/introns_{NumberOf_bp}.raw\", \"w\") as introns,\\\n",
    "    open(f\"{PathToSave}/intergenic_{NumberOf_bp}.raw\", \"w\") as intergenic:\n",
    "    for line in file_in:\n",
    "        LineSplit = line.strip().split()\n",
    "        Seqtype, Seq = LineSplit[0], LineSplit[-1]\n",
    "        if Seqtype == \"exon\":\n",
    "            exons.write(Seq + \"\\n\")\n",
    "        elif Seqtype == \"intron\":\n",
    "            introns.write(Seq + \"\\n\")\n",
    "        elif Seqtype == \"intergenic\":\n",
    "            intergenic.write(Seq + \"\\n\")"
   ]
  }
 ],
 "metadata": {
  "kernelspec": {
   "display_name": "Python 3",
   "language": "python",
   "name": "python3"
  },
  "language_info": {
   "codemirror_mode": {
    "name": "ipython",
    "version": 3
   },
   "file_extension": ".py",
   "mimetype": "text/x-python",
   "name": "python",
   "nbconvert_exporter": "python",
   "pygments_lexer": "ipython3",
   "version": "3.6.12"
  }
 },
 "nbformat": 4,
 "nbformat_minor": 5
}
