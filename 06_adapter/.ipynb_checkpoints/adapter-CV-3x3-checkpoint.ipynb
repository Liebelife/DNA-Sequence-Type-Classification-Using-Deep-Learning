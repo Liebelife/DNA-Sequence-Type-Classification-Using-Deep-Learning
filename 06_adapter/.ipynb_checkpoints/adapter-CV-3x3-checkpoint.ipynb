{
 "cells": [
  {
   "cell_type": "markdown",
   "id": "eca9733c-cc7e-49b2-8fd2-eef52b3a7e3d",
   "metadata": {},
   "source": [
    "# ADAPTER - cross validation 2x2"
   ]
  },
  {
   "cell_type": "markdown",
   "id": "3acf5768-2e1b-41c8-91bf-1b349d3d0979",
   "metadata": {
    "tags": []
   },
   "source": [
    "### Variables to set prior to run"
   ]
  },
  {
   "cell_type": "code",
   "execution_count": 1,
   "id": "b52b734e-abea-4564-9d3f-4c99726bf131",
   "metadata": {},
   "outputs": [],
   "source": [
    "import os\n",
    "import wandb\n",
    "\n",
    "suffix = \"3x3\"\n",
    "\n",
    "Transformers = \"/home/lieberze/DP/Thesis/05_model_training/\"\n",
    "TransformerName = os.path.abspath(os.path.join(Transformers, \"roberta-trained-new-tokenizer_params_4\")) \n",
    "\n",
    "TokenizerPath = \"/home/lieberze/DP/Thesis/02_tokenizery_new_data/02_ByteLevelBPE/All_genomes_sample/All_512/5000/\"\n",
    "\n",
    "# where to save trained adapters\n",
    "SaveToFolder = f\"{suffix}_CV\"\n",
    "\n",
    "NumberOfEpochs = 4\n",
    "TrainBatchSize = EvalBatchSize = 16\n",
    "LearningRate = 3e-4\n",
    "WarmupRatio = 0.08 # 8 %\n",
    "AdamEpsilon = 1e-08\n",
    "WeightDecay = 0.0005\n",
    "\n",
    "num_GPU = 3"
   ]
  },
  {
   "cell_type": "markdown",
   "id": "5c9572ec-dca6-4a27-a187-ac8fcdd3ae37",
   "metadata": {},
   "source": [
    "### Imports"
   ]
  },
  {
   "cell_type": "code",
   "execution_count": 2,
   "id": "d9030560-0aa0-4b57-9609-3c7618828249",
   "metadata": {},
   "outputs": [],
   "source": [
    "import torch\n",
    "import pandas as pd\n",
    "import numpy as np\n",
    "import pickle \n",
    "import matplotlib.pyplot as plt\n",
    "import seaborn as sns\n",
    "\n",
    "from torch.utils.data import Dataset, DataLoader\n",
    "from keras.preprocessing.sequence import pad_sequences\n",
    "from torch.nn.utils.rnn import pad_sequence\n",
    "from datasets import load_dataset\n",
    "\n",
    "from sklearn.model_selection import train_test_split\n",
    "from sklearn.model_selection import KFold\n",
    "\n",
    "from transformers import RobertaTokenizer\n",
    "from transformers import AdapterTrainer, AutoModelWithHeads\n",
    "from transformers.training_args import TrainingArguments\n",
    "\n",
    "from sklearn.metrics import accuracy_score, f1_score, classification_report\n",
    "from transformers import EvalPrediction\n",
    "from sklearn import metrics\n",
    "\n",
    "RANDOM_STATE = 42"
   ]
  },
  {
   "cell_type": "markdown",
   "id": "945965d2-e96e-43d4-b426-3de76dd6cd29",
   "metadata": {},
   "source": [
    "### Paths and setting labels"
   ]
  },
  {
   "cell_type": "code",
   "execution_count": 3,
   "id": "a8b306df-9aa2-4350-8cb3-f45db30813f5",
   "metadata": {},
   "outputs": [
    {
     "name": "stderr",
     "output_type": "stream",
     "text": [
      "file /home/lieberze/DP/Thesis/02_tokenizery_new_data/02_ByteLevelBPE/All_genomes_sample/All_512/5000/config.json not found\n"
     ]
    },
    {
     "data": {
      "text/plain": [
       "5000"
      ]
     },
     "execution_count": 3,
     "metadata": {},
     "output_type": "execute_result"
    }
   ],
   "source": [
    "RootFolder = \"/home/lieberze/DP/Thesis/\"\n",
    "Baseline = os.path.abspath(os.path.join(RootFolder, \"04_baseline\"))\n",
    "Adapter = os.path.abspath(os.path.join(RootFolder, \"06_adapter\"))\n",
    "DataFolder = os.path.abspath(os.path.join(Baseline, \"data\"))\n",
    "TestFolder = os.path.abspath(os.path.join(DataFolder, \"test\"))\n",
    "TrainFolder = os.path.abspath(os.path.join(DataFolder, \"train\"))\n",
    "\n",
    "# train and test file paths\n",
    "if suffix == \"3x3\":\n",
    "    TrainFile = os.path.abspath(os.path.join(TrainFolder, \"Train_250k.txt\"))\n",
    "    TestFile = os.path.abspath(os.path.join(TestFolder, \"Test_holdout_100k.txt\"))\n",
    "elif suffix == \"2x2\":\n",
    "    TrainFile = os.path.abspath(os.path.join(TrainFolder, \"2x2_train_200k.txt\"))\n",
    "    TestFile = os.path.abspath(os.path.join(TestFolder, \"2x2_test_100k.txt\"))\n",
    "    \n",
    "# labels to categorise\n",
    "if suffix == \"3x3\":\n",
    "    CATEGORIES = ['exon', 'intergenic','intron']\n",
    "elif suffix == \"2x2\":\n",
    "    CATEGORIES = ['exon', 'other']\n",
    "    \n",
    "id2label = {id:label for id, label in enumerate(CATEGORIES)}\n",
    "label2id = {label:id for id,label in id2label.items()}\n",
    "id2label, label2id\n",
    "    \n",
    "# enable GPUs\n",
    "device = torch.device(\"cuda\" if torch.cuda.is_available() else \"cpu\")\n",
    "\n",
    "# Load tokenizer\n",
    "tokenizer = RobertaTokenizer.from_pretrained(TokenizerPath)\n",
    "tokenizer.vocab_size"
   ]
  },
  {
   "cell_type": "markdown",
   "id": "8ada18a4-88b0-48cf-981f-f5705538cafb",
   "metadata": {},
   "source": [
    "### Dataset class"
   ]
  },
  {
   "cell_type": "code",
   "execution_count": 4,
   "id": "74b9681a-fbd2-4d7c-87be-a00dd8dc7f10",
   "metadata": {},
   "outputs": [],
   "source": [
    "# defining the Dataset class\n",
    "class data_set(Dataset):\n",
    "    def __init__(self, data, labels, tokenizer):\n",
    "        self.data = data\n",
    "        self.labels = labels\n",
    "        self.tokenizer = tokenizer\n",
    "        \n",
    "    def __len__(self):\n",
    "        return len(self.data)\n",
    "    \n",
    "    def __getitem__(self, index):\n",
    "        seq = self.data[index]\n",
    "        lab = self.labels[index]\n",
    "        lab_id = label2id[lab]\n",
    "        tokenized = tokenizer(seq, max_length=128, padding=\"max_length\", truncation=True)   \n",
    "        tokenized_with_label = tokenized\n",
    "        tokenized_with_label[\"labels\"] = lab_id\n",
    "        return tokenized_with_label"
   ]
  },
  {
   "cell_type": "markdown",
   "id": "d9d1e959-de49-4d4e-9b0b-67b43b7c16e7",
   "metadata": {},
   "source": [
    "### Load data"
   ]
  },
  {
   "cell_type": "code",
   "execution_count": 5,
   "id": "665fa59e-5b71-48ad-af80-cbcfc80b2857",
   "metadata": {},
   "outputs": [],
   "source": [
    "df_TRAIN = pd.read_csv(TrainFile, sep=\"\\t\", names=['type','sequence'])\n",
    "df_HOLDOUT = pd.read_csv(TestFile, sep=\"\\t\", names=['type','sequence'])\n",
    "\n",
    "if suffix == \"2x2\":\n",
    "    subs = {\n",
    "            \"exon\": \"exon\", \n",
    "            \"intron\": \"other\",\n",
    "            \"intergenic\": \"other\"\n",
    "            }\n",
    "    df_TRAIN[\"type\"] = [subs.get(item) for item in df_TRAIN[\"type\"]]\n",
    "    df_HOLDOUT[\"type\"] = [subs.get(item) for item in df_HOLDOUT[\"type\"]]\n",
    "    \n",
    "# dataset for train is created in k-folds in the next cell\n",
    "dataset_holdout = data_set(df_HOLDOUT[\"sequence\"], df_HOLDOUT[\"type\"], tokenizer)"
   ]
  },
  {
   "cell_type": "code",
   "execution_count": 6,
   "id": "b7e396d5-fbc7-45a5-acd8-40a0125f6ef1",
   "metadata": {},
   "outputs": [
    {
     "data": {
      "text/plain": [
       "(250000, 100000)"
      ]
     },
     "execution_count": 6,
     "metadata": {},
     "output_type": "execute_result"
    }
   ],
   "source": [
    "len(df_TRAIN), len(df_HOLDOUT)"
   ]
  },
  {
   "cell_type": "code",
   "execution_count": 7,
   "id": "93f22c85-e073-4ea5-81a6-1b66a3c938e5",
   "metadata": {},
   "outputs": [],
   "source": [
    "# NumberOfEpochs = 1\n",
    "# df_TRAIN = df_TRAIN[:1000]"
   ]
  },
  {
   "cell_type": "markdown",
   "id": "b686fa7b-80e2-4a95-9d41-30f6ae41c60e",
   "metadata": {},
   "source": [
    "### Run kfold CV"
   ]
  },
  {
   "cell_type": "code",
   "execution_count": null,
   "id": "d1b276f9-919b-444e-8832-43419d8d801a",
   "metadata": {},
   "outputs": [
    {
     "name": "stderr",
     "output_type": "stream",
     "text": [
      "Failed to detect the name of this notebook, you can set it manually with the WANDB_NOTEBOOK_NAME environment variable to enable code saving.\n",
      "\u001b[34m\u001b[1mwandb\u001b[0m: Currently logged in as: \u001b[33mliebelife\u001b[0m (use `wandb login --relogin` to force relogin)\n",
      "\u001b[34m\u001b[1mwandb\u001b[0m: wandb version 0.12.11 is available!  To upgrade, please run:\n",
      "\u001b[34m\u001b[1mwandb\u001b[0m:  $ pip install wandb --upgrade\n"
     ]
    },
    {
     "data": {
      "text/html": [
       "\n",
       "                    Syncing run <strong><a href=\"https://wandb.ai/liebelife/adapter_CV_3x3/runs/203vwv72\" target=\"_blank\">vocal-feather-76</a></strong> to <a href=\"https://wandb.ai/liebelife/adapter_CV_3x3\" target=\"_blank\">Weights & Biases</a> (<a href=\"https://docs.wandb.com/integrations/jupyter.html\" target=\"_blank\">docs</a>).<br/>\n",
       "\n",
       "                "
      ],
      "text/plain": [
       "<IPython.core.display.HTML object>"
      ]
     },
     "metadata": {},
     "output_type": "display_data"
    },
    {
     "name": "stderr",
     "output_type": "stream",
     "text": [
      "Some weights of the model checkpoint at /home/lieberze/DP/Thesis/05_model_training/roberta-trained-new-tokenizer_params_4 were not used when initializing RobertaModelWithHeads: ['lm_head.dense.bias', 'lm_head.bias', 'lm_head.layer_norm.bias', 'lm_head.layer_norm.weight', 'lm_head.dense.weight']\n",
      "- This IS expected if you are initializing RobertaModelWithHeads from the checkpoint of a model trained on another task or with another architecture (e.g. initializing a BertForSequenceClassification model from a BertForPreTraining model).\n",
      "- This IS NOT expected if you are initializing RobertaModelWithHeads from the checkpoint of a model that you expect to be exactly identical (initializing a BertForSequenceClassification model from a BertForSequenceClassification model).\n",
      "Some weights of RobertaModelWithHeads were not initialized from the model checkpoint at /home/lieberze/DP/Thesis/05_model_training/roberta-trained-new-tokenizer_params_4 and are newly initialized: ['roberta.pooler.dense.bias', 'roberta.pooler.dense.weight']\n",
      "You should probably TRAIN this model on a down-stream task to be able to use it for predictions and inference.\n"
     ]
    },
    {
     "name": "stdout",
     "output_type": "stream",
     "text": [
      "total_optimization_steps: 18752 \n",
      "how many 'eval_steps' to set: 1875 \n",
      "how many steps in each evaluation stop: 130 \n",
      "hence in total: 243750 steps for the whole evaluation\n"
     ]
    },
    {
     "name": "stderr",
     "output_type": "stream",
     "text": [
      "***** Running training *****\n",
      "  Num examples = 225000\n",
      "  Num Epochs = 4\n",
      "  Instantaneous batch size per device = 16\n",
      "  Total train batch size (w. parallel, distributed & accumulation) = 48\n",
      "  Gradient Accumulation steps = 1\n",
      "  Total optimization steps = 18752\n",
      "Automatic Weights & Biases logging enabled, to disable set os.environ[\"WANDB_DISABLED\"] = \"true\"\n",
      "/home/lieberze/.conda/envs/dp/lib/python3.6/site-packages/torch/nn/parallel/_functions.py:68: UserWarning: Was asked to gather along dimension 0, but all input tensors were scalars; will instead unsqueeze and return a vector.\n",
      "  warnings.warn('Was asked to gather along dimension 0, but all '\n"
     ]
    },
    {
     "data": {
      "text/html": [
       "\n",
       "    <div>\n",
       "      \n",
       "      <progress value='1876' max='18752' style='width:300px; height:20px; vertical-align: middle;'></progress>\n",
       "      [ 1876/18752 45:11 < 6:47:01, 0.69 it/s, Epoch 0.40/4]\n",
       "    </div>\n",
       "    <table border=\"1\" class=\"dataframe\">\n",
       "  <thead>\n",
       "    <tr style=\"text-align: left;\">\n",
       "      <th>Step</th>\n",
       "      <th>Training Loss</th>\n",
       "      <th>Validation Loss</th>\n",
       "    </tr>\n",
       "  </thead>\n",
       "  <tbody>\n",
       "  </tbody>\n",
       "</table><p>\n",
       "    <div>\n",
       "      \n",
       "      <progress value='491' max='521' style='width:300px; height:20px; vertical-align: middle;'></progress>\n",
       "      [491/521 43:14 < 02:38, 0.19 it/s]\n",
       "    </div>\n",
       "    "
      ],
      "text/plain": [
       "<IPython.core.display.HTML object>"
      ]
     },
     "metadata": {},
     "output_type": "display_data"
    },
    {
     "name": "stderr",
     "output_type": "stream",
     "text": [
      "***** Running Evaluation *****\n",
      "  Num examples = 25000\n",
      "  Batch size = 48\n"
     ]
    }
   ],
   "source": [
    "kfold = KFold(n_splits=10, random_state=RANDOM_STATE, shuffle=True)\n",
    "split_generator = kfold.split(df_TRAIN)\n",
    "\n",
    "for i, result in enumerate(split_generator):   \n",
    "    wandb.init(project = f\"adapter_CV_{suffix}\")\n",
    "    \n",
    "    # create datasets for k-fold\n",
    "    train, validation = df_TRAIN.iloc[result[0]], df_TRAIN.iloc[result[1]]\n",
    "    train = train.reset_index()\n",
    "    validation = validation.reset_index()    \n",
    "    data_set_train = data_set(train[\"sequence\"],train[\"type\"], tokenizer)\n",
    "    data_set_eval = data_set(validation[\"sequence\"],validation[\"type\"], tokenizer)\n",
    "    \n",
    "    # initialise model and adapter instance\n",
    "    AdapterName = f\"{suffix}_fold_{i}\"\n",
    "    model = AutoModelWithHeads.from_pretrained(TransformerName)\n",
    "    model.add_adapter(AdapterName)\n",
    "    model.add_classification_head(AdapterName, num_labels=len(CATEGORIES), id2label = id2label) #, multilabel=False)\n",
    "    model.train_adapter(AdapterName) # inicializace\n",
    "\n",
    "    # calculate eval_steps_to_set and some info to print\n",
    "    WANTED_eval_data_points_ratio = 0.1 # 10% of all optimization steps is going to have an evaluation datapoint (loss)\n",
    "    total_optimization_steps = round(len(train)/TrainBatchSize/num_GPU)*NumberOfEpochs\n",
    "    eval_steps_in_one_run = round(len(validation)/(NumberOfEpochs*TrainBatchSize)/num_GPU) \n",
    "    eval_steps_to_set=int(round(total_optimization_steps*WANTED_eval_data_points_ratio, 0))\n",
    "    print(\"total_optimization_steps:\",total_optimization_steps,\n",
    "          \"\\nhow many 'eval_steps' to set:\",eval_steps_to_set,\n",
    "          \"\\nhow many steps in each evaluation stop:\",eval_steps_in_one_run,\n",
    "          \"\\nhence in total:\", eval_steps_to_set*eval_steps_in_one_run, \"steps for the whole evaluation\" )\n",
    "\n",
    "    training_args =  TrainingArguments(\n",
    "        learning_rate=LearningRate,\n",
    "        num_train_epochs=NumberOfEpochs,\n",
    "        report_to=\"wandb\",\n",
    "        output_dir = SaveToFolder,\n",
    "        label_names = CATEGORIES,\n",
    "        eval_steps = eval_steps_to_set, \n",
    "        evaluation_strategy=\"steps\",\n",
    "        per_device_train_batch_size=TrainBatchSize,\n",
    "        per_device_eval_batch_size=EvalBatchSize,\n",
    "        do_eval=True,\n",
    "        logging_steps=100, \n",
    "        warmup_ratio = WarmupRatio,\n",
    "        adam_epsilon=AdamEpsilon,\n",
    "        weight_decay=WeightDecay,\n",
    "        save_steps=10_000,\n",
    "        save_total_limit=2,\n",
    "         # The next line is important to ensure the dataset labels are properly passed to the model\n",
    "        remove_unused_columns=False,\n",
    "        seed=1,\n",
    "    )    \n",
    "        \n",
    "    ## problem: compute_metrics doesn't get called by the adapter training\n",
    "    # https://discuss.huggingface.co/t/trainer-never-invokes-compute-metrics/11440/4\n",
    "    def compute_metrics(p: EvalPrediction):\n",
    "        logits, labels = p\n",
    "        preds = np.argmax(logits, axis=-1)\n",
    "        acc = accuracy_score(labels, preds)\n",
    "        f1_weighted = f1_score(labels, preds, average='weighted')\n",
    "        \n",
    "        report = metrics.classification_report(labels, preds, digits=2, output_dict=True, zero_division=0)\n",
    "        df_report = pd.DataFrame(report).transpose()\n",
    "        return {\"acc\": acc, \"f1_weighted\": f1_weighted, \"report\":df_report}\n",
    "\n",
    "    model.metrics=['f1_weighted']\n",
    "\n",
    "    trainer = AdapterTrainer(\n",
    "            model=model,\n",
    "            args=training_args,\n",
    "            train_dataset=data_set_train,\n",
    "            eval_dataset=data_set_eval,\n",
    "            compute_metrics = compute_metrics,\n",
    "        )\n",
    "\n",
    "    # first train model, save results\n",
    "    result = trainer.train()\n",
    "    \n",
    "    # evaluation metrics, manually, because (for unknown reason) the model itself doesn't return them\n",
    "    y_pr = data_set_eval.labels\n",
    "    y_pr = [label2id[i] for i in y_pr]\n",
    "    loss = trainer.compute_metrics([trainer.predict(data_set_eval).predictions[1], y_pr])\n",
    "    Metrics = trainer.evaluate()\n",
    "    \n",
    "    print(loss, Metrics)\n",
    "    !mkdir -p $Adapter/$SaveToFolder/$AdapterName\n",
    "    \n",
    "    # saving results\n",
    "    with open(f\"{Adapter}/{SaveToFolder}/{AdapterName}/metrics_{suffix}.pkl\", \"wb\") as f:\n",
    "        pickle.dump({\"loss\":loss, \"metrics\":Metrics, \"result\":result}, f)\n",
    "\n",
    "    # saving adapter\n",
    "    trainer.save_model(SaveToFolder) # folder into which we save (the name is in the trainer)\n",
    "    wandb.finish()"
   ]
  },
  {
   "cell_type": "markdown",
   "id": "a04a5ef8-f26a-413d-bf1d-3873d5f81fcb",
   "metadata": {
    "tags": []
   },
   "source": [
    "## Pak nějak pohrotit ty výsledky cross validace:"
   ]
  },
  {
   "cell_type": "code",
   "execution_count": 16,
   "id": "af8a243c-037c-4ea8-a6fd-816154252c1d",
   "metadata": {},
   "outputs": [
    {
     "data": {
      "text/plain": [
       "{'exon': 0, 'intergenic': 1, 'intron': 2}"
      ]
     },
     "execution_count": 16,
     "metadata": {},
     "output_type": "execute_result"
    }
   ],
   "source": [
    "label2id"
   ]
  },
  {
   "cell_type": "code",
   "execution_count": 15,
   "id": "91d7fde7-2487-4772-9d64-ab0e43ba4233",
   "metadata": {},
   "outputs": [
    {
     "name": "stdout",
     "output_type": "stream",
     "text": [
      "{'loss': {'acc': 0.56748, 'f1_weighted': 0.5725226306926049, 'report':               precision    recall  f1-score      support\n",
      "0              0.767173  0.658297  0.708577   8364.00000\n",
      "1              0.523370  0.551737  0.537179   8321.00000\n",
      "2              0.451884  0.491882  0.471035   8315.00000\n",
      "accuracy       0.567480  0.567480  0.567480      0.56748\n",
      "macro avg      0.580809  0.567305  0.572264  25000.00000\n",
      "weighted avg   0.581160  0.567480  0.572523  25000.00000}, 'metrics': {'eval_runtime': 53.6027, 'eval_samples_per_second': 466.395, 'eval_steps_per_second': 9.72, 'epoch': 4.0}, 'result': TrainOutput(global_step=18752, training_loss=0.848740312833428, metrics={'train_runtime': 3569.6695, 'train_samples_per_second': 252.124, 'train_steps_per_second': 5.253, 'total_flos': 3.05230622976e+16, 'train_loss': 0.848740312833428, 'epoch': 4.0})}\n"
     ]
    }
   ],
   "source": [
    "with open(f\"{SaveToFolder}/{AdapterName}/metrics_{suffix}.pkl\", \"rb\") as f:\n",
    "    x = pickle.load(f)\n",
    "    print(x)"
   ]
  },
  {
   "cell_type": "markdown",
   "id": "9dd0ca54-1c2b-4288-b6fc-bb6239ce1565",
   "metadata": {},
   "source": [
    "## Load adapter, test on holdout:"
   ]
  },
  {
   "cell_type": "code",
   "execution_count": 17,
   "id": "ce5dfd0e-ff0b-47b5-8f30-73dee1b66545",
   "metadata": {},
   "outputs": [
    {
     "name": "stderr",
     "output_type": "stream",
     "text": [
      "loading configuration file /home/lieberze/DP/Thesis/05_model_training/roberta-trained-new-tokenizer_params_4/config.json\n",
      "Model config RobertaConfig {\n",
      "  \"adapters\": {\n",
      "    \"adapters\": {},\n",
      "    \"config_map\": {},\n",
      "    \"fusion_config_map\": {},\n",
      "    \"fusions\": {}\n",
      "  },\n",
      "  \"architectures\": [\n",
      "    \"RobertaForMaskedLM\"\n",
      "  ],\n",
      "  \"attention_probs_dropout_prob\": 0.1,\n",
      "  \"bos_token_id\": 0,\n",
      "  \"classifier_dropout\": null,\n",
      "  \"eos_token_id\": 2,\n",
      "  \"hidden_act\": \"gelu\",\n",
      "  \"hidden_dropout_prob\": 0.1,\n",
      "  \"hidden_size\": 768,\n",
      "  \"initializer_range\": 0.02,\n",
      "  \"intermediate_size\": 3072,\n",
      "  \"layer_norm_eps\": 1e-12,\n",
      "  \"max_position_embeddings\": 512,\n",
      "  \"model_type\": \"roberta\",\n",
      "  \"num_attention_heads\": 12,\n",
      "  \"num_hidden_layers\": 6,\n",
      "  \"pad_token_id\": 1,\n",
      "  \"position_embedding_type\": \"absolute\",\n",
      "  \"torch_dtype\": \"float32\",\n",
      "  \"transformers_version\": \"4.11.3\",\n",
      "  \"type_vocab_size\": 1,\n",
      "  \"use_cache\": true,\n",
      "  \"vocab_size\": 5000\n",
      "}\n",
      "\n",
      "loading weights file /home/lieberze/DP/Thesis/05_model_training/roberta-trained-new-tokenizer_params_4/pytorch_model.bin\n",
      "Some weights of the model checkpoint at /home/lieberze/DP/Thesis/05_model_training/roberta-trained-new-tokenizer_params_4 were not used when initializing RobertaModelWithHeads: ['lm_head.dense.bias', 'lm_head.bias', 'lm_head.layer_norm.bias', 'lm_head.layer_norm.weight', 'lm_head.dense.weight']\n",
      "- This IS expected if you are initializing RobertaModelWithHeads from the checkpoint of a model trained on another task or with another architecture (e.g. initializing a BertForSequenceClassification model from a BertForPreTraining model).\n",
      "- This IS NOT expected if you are initializing RobertaModelWithHeads from the checkpoint of a model that you expect to be exactly identical (initializing a BertForSequenceClassification model from a BertForSequenceClassification model).\n",
      "Some weights of RobertaModelWithHeads were not initialized from the model checkpoint at /home/lieberze/DP/Thesis/05_model_training/roberta-trained-new-tokenizer_params_4 and are newly initialized: ['roberta.pooler.dense.bias', 'roberta.pooler.dense.weight']\n",
      "You should probably TRAIN this model on a down-stream task to be able to use it for predictions and inference.\n",
      "Loading module configuration from 3x3_CV/3x3_fold_9/adapter_config.json\n",
      "Adding adapter '3x3_fold_9'.\n",
      "Loading module weights from 3x3_CV/3x3_fold_9/pytorch_adapter.bin\n",
      "Loading module configuration from 3x3_CV/3x3_fold_9/head_config.json\n",
      "Adding head '3x3_fold_9' with config {'head_type': 'classification', 'num_labels': 3, 'layers': 2, 'activation_function': 'tanh', 'label2id': {'exon': 0, 'intergenic': 1, 'intron': 2}, 'use_pooler': False, 'bias': True}.\n",
      "Loading module weights from 3x3_CV/3x3_fold_9/pytorch_model_head.bin\n",
      "Disabling tokenizer parallelism, we're using DataLoader multithreading already\n",
      "/home/lieberze/.conda/envs/dp/lib/python3.6/site-packages/torch/utils/data/dataloader.py:481: UserWarning: This DataLoader will create 8 worker processes in total. Our suggested max number of worker in current system is 4, which is smaller than what this DataLoader is going to create. Please be aware that excessive worker creation might get DataLoader running slow or even freeze, lower the worker number to avoid potential slowness/freeze if necessary.\n",
      "  cpuset_checked))\n"
     ]
    },
    {
     "name": "stdout",
     "output_type": "stream",
     "text": [
      "[{'label': 'exon', 'score': 0.4375315308570862}, {'label': 'intron', 'score': 0.5922468304634094}, {'label': 'intergenic', 'score': 0.4327903389930725}, {'label': 'intergenic', 'score': 0.4769325852394104}, {'label': 'exon', 'score': 0.8076052069664001}, {'label': 'intron', 'score': 0.3933967649936676}, {'label': 'intergenic', 'score': 0.6631948947906494}, {'label': 'intron', 'score': 0.42501750588417053}, {'label': 'intergenic', 'score': 0.4169730842113495}, {'label': 'exon', 'score': 0.9941347241401672}, {'label': 'exon', 'score': 0.43281903862953186}, {'label': 'exon', 'score': 0.9818565249443054}, {'label': 'intron', 'score': 0.3744923174381256}, {'label': 'exon', 'score': 0.9860783815383911}, {'label': 'exon', 'score': 0.9551941752433777}, {'label': 'intron', 'score': 0.36048534512519836}, {'label': 'exon', 'score': 0.9950835704803467}, {'label': 'intergenic', 'score': 0.4169521927833557}, {'label': 'exon', 'score': 0.39919790625572205}, {'label': 'intergenic', 'score': 0.5822523236274719}, {'label': 'intron', 'score': 0.5859422087669373}, {'label': 'intron', 'score': 0.39052772521972656}, {'label': 'exon', 'score': 0.6449522972106934}, {'label': 'exon', 'score': 0.9948108196258545}, {'label': 'exon', 'score': 0.41600000858306885}, {'label': 'intergenic', 'score': 0.4850260019302368}, {'label': 'exon', 'score': 0.8239743709564209}, {'label': 'intron', 'score': 0.43021395802497864}, {'label': 'intron', 'score': 0.49362650513648987}, {'label': 'exon', 'score': 0.9949736595153809}]\n"
     ]
    }
   ],
   "source": [
    "from transformers import TextClassificationPipeline\n",
    "model = AutoModelWithHeads.from_pretrained(TransformerName)\n",
    "tokenizer = tokenizer\n",
    "\n",
    "adapter1 = model.load_adapter(f\"{SaveToFolder}/{suffix}_fold_9\")\n",
    "model.active_adapters = adapter1\n",
    "\n",
    "classifier = TextClassificationPipeline(model=model, tokenizer=tokenizer, device=training_args.device.index)\n",
    "\n",
    "sequences = list(df_HOLDOUT.sequence)\n",
    "true_labels = list(df_HOLDOUT.type)\n",
    "pred_labels = classifier(sequences)\n",
    "\n",
    "pred_lab = [i[\"label\"] for i in pred_labels]\n",
    "pred_score = [i[\"score\"] for i in pred_labels]\n",
    "\n",
    "print(pred_labels[:30])\n",
    "\n",
    "import pickle\n",
    "with open(f\"{SaveToFolder}/pred_labels_fold_9_{suffix}.pk\", 'wb') as f:\n",
    "    pickle.dump(pred_labels, f)"
   ]
  },
  {
   "cell_type": "code",
   "execution_count": 24,
   "id": "05746ac5-3abd-4821-a22e-072900715f43",
   "metadata": {},
   "outputs": [
    {
     "data": {
      "image/png": "[encoded data removed]",
      "text/plain": [
       "<Figure size 576x432 with 2 Axes>"
      ]
     },
     "metadata": {},
     "output_type": "display_data"
    },
    {
     "name": "stdout",
     "output_type": "stream",
     "text": [
      "              precision    recall  f1-score       support\n",
      "exon           0.764515  0.655639  0.705903   33340.00000\n",
      "intergenic     0.525709  0.555083  0.539997   33413.00000\n",
      "intron         0.453914  0.493248  0.472764   33247.00000\n",
      "accuracy       0.568050  0.568050  0.568050       0.56805\n",
      "macro avg      0.581379  0.567990  0.572888  100000.00000\n",
      "weighted avg   0.581457  0.568050  0.572957  100000.00000\n"
     ]
    }
   ],
   "source": [
    "import sys \n",
    "sys.path.insert(0, \"./../\" )\n",
    "from my_classes import ClassificationMetrics\n",
    "\n",
    "# create and save conf matrix\n",
    "TitleName = \"Adapter\"\n",
    "CMName = f\"{Adapter}/{SaveToFolder}/confusion_matrix_{suffix}.png\"\n",
    "ClassificationMetrics.ConfMatrix(true_labels, pred_lab, CATEGORIES, TitleName, CMName)\n",
    "\n",
    "report = metrics.classification_report(true_labels, pred_lab, digits=2, output_dict=True, zero_division=0)\n",
    "df_report = pd.DataFrame(report).transpose()\n",
    "df_report.to_pickle(f\"{Adapter}/{SaveToFolder}/report_{suffix}.pkl\")\n",
    "df_report.to_excel(f\"{Adapter}/{SaveToFolder}/report_holdout_{suffix}.xlsx\") \n",
    "print(df_report)"
   ]
  },
  {
   "cell_type": "code",
   "execution_count": null,
   "id": "8eddb541-f524-44b3-935f-ea3d854fbe56",
   "metadata": {},
   "outputs": [],
   "source": [
    "# the correct way to predict with a trained model is prediction = model(tokenized_sequence_to_classify)"
   ]
  }
 ],
 "metadata": {
  "kernelspec": {
   "display_name": "Python 3",
   "language": "python",
   "name": "python3"
  },
  "language_info": {
   "codemirror_mode": {
    "name": "ipython",
    "version": 3
   },
   "file_extension": ".py",
   "mimetype": "text/x-python",
   "name": "python",
   "nbconvert_exporter": "python",
   "pygments_lexer": "ipython3",
   "version": "3.6.13"
  }
 },
 "nbformat": 4,
 "nbformat_minor": 5
}
