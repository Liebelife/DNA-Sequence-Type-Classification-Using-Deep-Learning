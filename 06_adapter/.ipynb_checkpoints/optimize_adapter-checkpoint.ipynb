{
 "cells": [
  {
   "cell_type": "markdown",
   "id": "0dc2cdfc-694c-466a-9562-24c97cea2a3c",
   "metadata": {},
   "source": [
    "## 2x2 (exon vs rest) a 3x3 (ex, intr, inter) klasifikace"
   ]
  },
  {
   "cell_type": "code",
   "execution_count": 1,
   "id": "229ff142-6ffe-446e-989e-bbe8b1c8bd27",
   "metadata": {},
   "outputs": [],
   "source": [
    "# subs = {\n",
    "#         \"exon\": \"exon\", \n",
    "#         \"intron\": \"other\",\n",
    "#         \"intergenic\": \"other\"\n",
    "#         }\n",
    "# y = [subs.get(item) for item in y]"
   ]
  },
  {
   "cell_type": "code",
   "execution_count": null,
   "id": "e69f3a6f-8a3b-4a22-b5b6-6eb98610b62c",
   "metadata": {},
   "outputs": [],
   "source": [
    "RANDOM_STATE = 42"
   ]
  },
  {
   "cell_type": "code",
   "execution_count": null,
   "id": "359395cf-fc9b-45da-965e-46336b40ab2f",
   "metadata": {},
   "outputs": [],
   "source": [
    "# kf = KFold(n_splits=5, random_state=0, shuffle=True)\n",
    "# model = RandomizedSearchCV(\n",
    "#    estimator=clf,\n",
    "#    param_distributions=grid,\n",
    "#    n_iter=5, \n",
    "#    cv=kf,\n",
    "#    verbose=1, \n",
    "#    n_jobs=-1,\n",
    "#    random_state=random_state, \n",
    "#    scoring = \"f1_weighted\",\n",
    "# )\n",
    "\n",
    "# kf = KFold(n_splits=5, random_state=0, shuffle=True)\n",
    "# model = nejakyModel()\n",
    "# results = cross_val_score(model, train_X, train_y, scorring='accuracy', cv=kf, n_jobs=-1)"
   ]
  },
  {
   "cell_type": "code",
   "execution_count": null,
   "id": "c6de4c0f-9e64-4dfd-bd41-a5ece6580269",
   "metadata": {},
   "outputs": [],
   "source": [
    "kf = KFold(n_splits=5, random_state=42, shuffle=True)\n",
    "model = nejakyModel()\n",
    "results = cross_val_score(model, train_X, train_y, scorring='accuracy', cv=kf, n_jobs=-1)"
   ]
  },
  {
   "cell_type": "code",
   "execution_count": null,
   "id": "30b6534d-6bb8-4cc6-8a77-96d0cde7f9ea",
   "metadata": {},
   "outputs": [],
   "source": [
    "def TryClassifiers(model_grid, random_state, X_train, y_train):\n",
    "    kf = KFold(n_splits=5, random_state=0, shuffle=True)\n",
    "    BestScores = []\n",
    "    for clf, grid in model_grid.items():\n",
    "        model = RandomizedSearchCV(estimator=clf, \n",
    "                                   param_distributions=grid,\n",
    "                                   n_iter=5, \n",
    "                                   cv=kf,\n",
    "                                   verbose=1, \n",
    "                                   n_jobs=-1,\n",
    "                                   random_state=random_state, \n",
    "                                   scoring = \"f1_weighted\",\n",
    "                                  )\n",
    "        model.fit(X_train, y_train)     \n",
    "        best_score = model.best_score_\n",
    "        best_params = model.best_estimator_.get_params()\n",
    "        BestScores.append([best_score, clf, best_params])\n",
    "    return BestScores"
   ]
  },
  {
   "cell_type": "markdown",
   "id": "8efc2007-8072-4dc1-addd-f2dc01277689",
   "metadata": {},
   "source": [
    "## Priprava na CV adapteru"
   ]
  },
  {
   "cell_type": "code",
   "execution_count": 3,
   "id": "5fb7f182-7203-4fc0-8df6-8fcf226422d7",
   "metadata": {},
   "outputs": [],
   "source": [
    "import pandas as pd\n",
    "from sklearn.model_selection import train_test_split\n",
    "\n",
    "data_path = \"/home/lieberze/DP/Thesis/model_training/data/512_bp_for_encoding/NEW/All_200k_tail_for_tokenizer.txt\"       \n",
    "df = pd.read_csv(data_path, sep=\"\\t\", names=['type','sequence'])\n",
    "df_train, df_holdout = train_test_split(df, test_size=0.20, random_state=42, stratify=df[\"type\"])\n",
    "df_train = df_train.reset_index()\n",
    "df_holdout = df_holdout.reset_index()\n",
    "\n",
    "holdout_test = data_set(df_holdout[\"sequence\"],df_holdout[\"type\"], tokenizer)"
   ]
  },
  {
   "cell_type": "code",
   "execution_count": 34,
   "id": "dc35f02c-1cf7-4bc6-a747-7413fa0be352",
   "metadata": {},
   "outputs": [
    {
     "ename": "NameError",
     "evalue": "name 'data_set' is not defined",
     "output_type": "error",
     "traceback": [
      "\u001b[0;31m---------------------------------------------------------------------------\u001b[0m",
      "\u001b[0;31mNameError\u001b[0m                                 Traceback (most recent call last)",
      "\u001b[0;32m<ipython-input-34-16aabf4c9c7a>\u001b[0m in \u001b[0;36m<module>\u001b[0;34m\u001b[0m\n\u001b[1;32m      7\u001b[0m     \u001b[0mtrain\u001b[0m\u001b[0;34m,\u001b[0m \u001b[0mvalidation\u001b[0m \u001b[0;34m=\u001b[0m \u001b[0mdf_train\u001b[0m\u001b[0;34m.\u001b[0m\u001b[0miloc\u001b[0m\u001b[0;34m[\u001b[0m\u001b[0mresult\u001b[0m\u001b[0;34m[\u001b[0m\u001b[0;36m0\u001b[0m\u001b[0;34m]\u001b[0m\u001b[0;34m]\u001b[0m\u001b[0;34m,\u001b[0m \u001b[0mdf_train\u001b[0m\u001b[0;34m.\u001b[0m\u001b[0miloc\u001b[0m\u001b[0;34m[\u001b[0m\u001b[0mresult\u001b[0m\u001b[0;34m[\u001b[0m\u001b[0;36m1\u001b[0m\u001b[0;34m]\u001b[0m\u001b[0;34m]\u001b[0m\u001b[0;34m\u001b[0m\u001b[0;34m\u001b[0m\u001b[0m\n\u001b[1;32m      8\u001b[0m \u001b[0;34m\u001b[0m\u001b[0m\n\u001b[0;32m----> 9\u001b[0;31m     \u001b[0mdata_set_train\u001b[0m \u001b[0;34m=\u001b[0m \u001b[0mdata_set\u001b[0m\u001b[0;34m(\u001b[0m\u001b[0mtrain\u001b[0m\u001b[0;34m[\u001b[0m\u001b[0;34m\"sequence\"\u001b[0m\u001b[0;34m]\u001b[0m\u001b[0;34m,\u001b[0m\u001b[0mtrain\u001b[0m\u001b[0;34m[\u001b[0m\u001b[0;34m\"type\"\u001b[0m\u001b[0;34m]\u001b[0m\u001b[0;34m,\u001b[0m \u001b[0mtokenizer\u001b[0m\u001b[0;34m)\u001b[0m\u001b[0;34m\u001b[0m\u001b[0;34m\u001b[0m\u001b[0m\n\u001b[0m\u001b[1;32m     10\u001b[0m     \u001b[0mdata_set_eval\u001b[0m \u001b[0;34m=\u001b[0m \u001b[0mdata_set\u001b[0m\u001b[0;34m(\u001b[0m\u001b[0mvalidation\u001b[0m\u001b[0;34m[\u001b[0m\u001b[0;34m\"sequence\"\u001b[0m\u001b[0;34m]\u001b[0m\u001b[0;34m,\u001b[0m\u001b[0mvalidation\u001b[0m\u001b[0;34m[\u001b[0m\u001b[0;34m\"type\"\u001b[0m\u001b[0;34m]\u001b[0m\u001b[0;34m,\u001b[0m \u001b[0mtokenizer\u001b[0m\u001b[0;34m)\u001b[0m\u001b[0;34m\u001b[0m\u001b[0;34m\u001b[0m\u001b[0m\n\u001b[1;32m     11\u001b[0m \u001b[0;34m\u001b[0m\u001b[0m\n",
      "\u001b[0;31mNameError\u001b[0m: name 'data_set' is not defined"
     ]
    }
   ],
   "source": [
    "from sklearn.model_selection import KFold\n",
    "\n",
    "kfold = KFold(n_splits=5, random_state=42, shuffle=True)\n",
    "split_generator = kfold.split(df_train)\n",
    "\n",
    "for result in split_generator:\n",
    "    train, validation = df_train.iloc[result[0]], df_train.iloc[result[1]]\n",
    "    \n",
    "    data_set_train = data_set(train[\"sequence\"],train[\"type\"], tokenizer)\n",
    "    data_set_eval = data_set(validation[\"sequence\"],validation[\"type\"], tokenizer)\n",
    "    \n",
    "    # a tady pak dát trainer.train()\n",
    "    # ulozit adaptery do stejne slozky, napredikovat na holdoutu\n",
    "    # ulozit conf matice, tabulku results\n",
    "    # udelat pro 2x2 a 3x3"
   ]
  },
  {
   "cell_type": "markdown",
   "id": "6c082876-bc59-40d4-97d5-09adbcc8ea88",
   "metadata": {},
   "source": [
    "a pak nejaka evaluace"
   ]
  }
 ],
 "metadata": {
  "kernelspec": {
   "display_name": "Python 3",
   "language": "python",
   "name": "python3"
  },
  "language_info": {
   "codemirror_mode": {
    "name": "ipython",
    "version": 3
   },
   "file_extension": ".py",
   "mimetype": "text/x-python",
   "name": "python",
   "nbconvert_exporter": "python",
   "pygments_lexer": "ipython3",
   "version": "3.6.13"
  }
 },
 "nbformat": 4,
 "nbformat_minor": 5
}
