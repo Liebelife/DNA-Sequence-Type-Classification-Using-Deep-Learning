{
 "cells": [
  {
   "cell_type": "markdown",
   "id": "eca9733c-cc7e-49b2-8fd2-eef52b3a7e3d",
   "metadata": {},
   "source": [
    "# ADAPTER - cross validation 2x2"
   ]
  },
  {
   "cell_type": "markdown",
   "id": "3acf5768-2e1b-41c8-91bf-1b349d3d0979",
   "metadata": {
    "tags": []
   },
   "source": [
    "### Variables to set prior to run"
   ]
  },
  {
   "cell_type": "code",
   "execution_count": 2,
   "id": "b52b734e-abea-4564-9d3f-4c99726bf131",
   "metadata": {},
   "outputs": [],
   "source": [
    "import os\n",
    "import wandb\n",
    "\n",
    "suffix = \"2x2\"\n",
    "\n",
    "Transformers = \"/home/lieberze/DP/Thesis/05_model_training/\"\n",
    "TransformerName = os.path.abspath(os.path.join(Transformers, \"roberta-trained-new-tokenizer_params_4\")) \n",
    "\n",
    "TokenizerPath = \"/home/lieberze/DP/Thesis/02_tokenizery_new_data/02_ByteLevelBPE/All_genomes_sample/All_512/5000/\"\n",
    "\n",
    "# where to save trained adapters\n",
    "SaveToFolder = f\"{suffix}_CV\"\n",
    "\n",
    "NumberOfEpochs = 4\n",
    "TrainBatchSize = EvalBatchSize = 16\n",
    "LearningRate = 3e-4\n",
    "WarmupRatio = 0.08 # 8 %\n",
    "AdamEpsilon = 1e-08\n",
    "WeightDecay = 0.0005\n",
    "\n",
    "num_GPU = 3"
   ]
  },
  {
   "cell_type": "markdown",
   "id": "5c9572ec-dca6-4a27-a187-ac8fcdd3ae37",
   "metadata": {},
   "source": [
    "### Imports"
   ]
  },
  {
   "cell_type": "code",
   "execution_count": 87,
   "id": "d9030560-0aa0-4b57-9609-3c7618828249",
   "metadata": {},
   "outputs": [],
   "source": [
    "import torch\n",
    "import pandas as pd\n",
    "import numpy as np\n",
    "import pickle \n",
    "import matplotlib.pyplot as plt\n",
    "import seaborn as sns\n",
    "\n",
    "from torch.utils.data import Dataset, DataLoader\n",
    "from keras.preprocessing.sequence import pad_sequences\n",
    "from torch.nn.utils.rnn import pad_sequence\n",
    "from datasets import load_dataset\n",
    "\n",
    "from sklearn.model_selection import train_test_split\n",
    "from sklearn.model_selection import KFold\n",
    "\n",
    "from transformers import RobertaTokenizer\n",
    "from transformers import AdapterTrainer, AutoModelWithHeads\n",
    "from transformers.training_args import TrainingArguments\n",
    "\n",
    "from sklearn.metrics import accuracy_score, f1_score, classification_report\n",
    "from transformers import EvalPrediction\n",
    "from sklearn import metrics\n",
    "\n",
    "RANDOM_STATE = 42"
   ]
  },
  {
   "cell_type": "markdown",
   "id": "945965d2-e96e-43d4-b426-3de76dd6cd29",
   "metadata": {},
   "source": [
    "### Paths and setting labels"
   ]
  },
  {
   "cell_type": "code",
   "execution_count": 4,
   "id": "a8b306df-9aa2-4350-8cb3-f45db30813f5",
   "metadata": {},
   "outputs": [
    {
     "name": "stderr",
     "output_type": "stream",
     "text": [
      "file /home/lieberze/DP/Thesis/02_tokenizery_new_data/02_ByteLevelBPE/All_genomes_sample/All_512/5000/config.json not found\n"
     ]
    },
    {
     "data": {
      "text/plain": [
       "5000"
      ]
     },
     "execution_count": 4,
     "metadata": {},
     "output_type": "execute_result"
    }
   ],
   "source": [
    "RootFolder = \"/home/lieberze/DP/Thesis/\"\n",
    "Baseline = os.path.abspath(os.path.join(RootFolder, \"04_baseline\"))\n",
    "Adapter = os.path.abspath(os.path.join(RootFolder, \"06_adapter\"))\n",
    "DataFolder = os.path.abspath(os.path.join(Baseline, \"data\"))\n",
    "TestFolder = os.path.abspath(os.path.join(DataFolder, \"test\"))\n",
    "TrainFolder = os.path.abspath(os.path.join(DataFolder, \"train\"))\n",
    "\n",
    "# train and test file paths\n",
    "if suffix == \"3x3\":\n",
    "    TrainFile = os.path.abspath(os.path.join(TrainFolder, \"Train_250k.txt\"))\n",
    "    TestFile = os.path.abspath(os.path.join(TestFolder, \"Test_holdout_100k.txt\"))\n",
    "elif suffix == \"2x2\":\n",
    "    TrainFile = os.path.abspath(os.path.join(TrainFolder, \"2x2_train_200k.txt\"))\n",
    "    TestFile = os.path.abspath(os.path.join(TestFolder, \"2x2_test_100k.txt\"))\n",
    "    \n",
    "# labels to categorise\n",
    "if suffix == \"3x3\":\n",
    "    CATEGORIES = ['exon', 'intergenic','intron']\n",
    "elif suffix == \"2x2\":\n",
    "    CATEGORIES = ['exon', 'other']\n",
    "    \n",
    "id2label = {id:label for id, label in enumerate(CATEGORIES)}\n",
    "label2id = {label:id for id,label in id2label.items()}\n",
    "id2label, label2id\n",
    "    \n",
    "# enable GPUs\n",
    "device = torch.device(\"cuda\" if torch.cuda.is_available() else \"cpu\")\n",
    "\n",
    "# Load tokenizer\n",
    "tokenizer = RobertaTokenizer.from_pretrained(TokenizerPath)\n",
    "tokenizer.vocab_size"
   ]
  },
  {
   "cell_type": "markdown",
   "id": "8ada18a4-88b0-48cf-981f-f5705538cafb",
   "metadata": {},
   "source": [
    "### Dataset class"
   ]
  },
  {
   "cell_type": "code",
   "execution_count": 5,
   "id": "74b9681a-fbd2-4d7c-87be-a00dd8dc7f10",
   "metadata": {},
   "outputs": [],
   "source": [
    "# defining the Dataset class\n",
    "class data_set(Dataset):\n",
    "    def __init__(self, data, labels, tokenizer):\n",
    "        self.data = data\n",
    "        self.labels = labels\n",
    "        self.tokenizer = tokenizer\n",
    "        \n",
    "    def __len__(self):\n",
    "        return len(self.data)\n",
    "    \n",
    "    def __getitem__(self, index):\n",
    "        seq = self.data[index]\n",
    "        lab = self.labels[index]\n",
    "        lab_id = label2id[lab]\n",
    "        tokenized = tokenizer(seq, max_length=128, padding=\"max_length\", truncation=True)   \n",
    "        tokenized_with_label = tokenized\n",
    "        tokenized_with_label[\"labels\"] = lab_id\n",
    "        return tokenized_with_label"
   ]
  },
  {
   "cell_type": "markdown",
   "id": "d9d1e959-de49-4d4e-9b0b-67b43b7c16e7",
   "metadata": {},
   "source": [
    "### Load data"
   ]
  },
  {
   "cell_type": "code",
   "execution_count": 6,
   "id": "665fa59e-5b71-48ad-af80-cbcfc80b2857",
   "metadata": {},
   "outputs": [],
   "source": [
    "df_TRAIN = pd.read_csv(TrainFile, sep=\"\\t\", names=['type','sequence'])\n",
    "df_HOLDOUT = pd.read_csv(TestFile, sep=\"\\t\", names=['type','sequence'])\n",
    "\n",
    "if suffix == \"2x2\":\n",
    "    subs = {\n",
    "            \"exon\": \"exon\", \n",
    "            \"intron\": \"other\",\n",
    "            \"intergenic\": \"other\"\n",
    "            }\n",
    "    df_TRAIN[\"type\"] = [subs.get(item) for item in df_TRAIN[\"type\"]]\n",
    "    df_HOLDOUT[\"type\"] = [subs.get(item) for item in df_HOLDOUT[\"type\"]]\n",
    "    \n",
    "# dataset for train is created in k-folds in the next cell\n",
    "dataset_holdout = data_set(df_HOLDOUT[\"sequence\"], df_HOLDOUT[\"type\"], tokenizer)"
   ]
  },
  {
   "cell_type": "code",
   "execution_count": 7,
   "id": "b7e396d5-fbc7-45a5-acd8-40a0125f6ef1",
   "metadata": {},
   "outputs": [
    {
     "data": {
      "text/plain": [
       "(200000, 200000)"
      ]
     },
     "execution_count": 7,
     "metadata": {},
     "output_type": "execute_result"
    }
   ],
   "source": [
    "len(df_TRAIN), len(df_HOLDOUT)"
   ]
  },
  {
   "cell_type": "code",
   "execution_count": 8,
   "id": "93f22c85-e073-4ea5-81a6-1b66a3c938e5",
   "metadata": {},
   "outputs": [],
   "source": [
    "# NumberOfEpochs = 1\n",
    "# df_TRAIN = df_TRAIN[:1000]"
   ]
  },
  {
   "cell_type": "markdown",
   "id": "b686fa7b-80e2-4a95-9d41-30f6ae41c60e",
   "metadata": {},
   "source": [
    "### Run kfold CV"
   ]
  },
  {
   "cell_type": "code",
   "execution_count": 9,
   "id": "59fa6c90-e721-46b0-854a-773e1d71892f",
   "metadata": {},
   "outputs": [],
   "source": [
    "kfold = KFold(n_splits=10, random_state=RANDOM_STATE, shuffle=True)\n",
    "split_generator = kfold.split(df_TRAIN)"
   ]
  },
  {
   "cell_type": "code",
   "execution_count": null,
   "id": "d1b276f9-919b-444e-8832-43419d8d801a",
   "metadata": {},
   "outputs": [
    {
     "name": "stderr",
     "output_type": "stream",
     "text": [
      "Failed to detect the name of this notebook, you can set it manually with the WANDB_NOTEBOOK_NAME environment variable to enable code saving.\n",
      "\u001b[34m\u001b[1mwandb\u001b[0m: Currently logged in as: \u001b[33mliebelife\u001b[0m (use `wandb login --relogin` to force relogin)\n",
      "\u001b[34m\u001b[1mwandb\u001b[0m: wandb version 0.12.11 is available!  To upgrade, please run:\n",
      "\u001b[34m\u001b[1mwandb\u001b[0m:  $ pip install wandb --upgrade\n"
     ]
    },
    {
     "data": {
      "text/html": [
       "\n",
       "                    Syncing run <strong><a href=\"https://wandb.ai/liebelife/adapter_CV_2x2/runs/217zczzt\" target=\"_blank\">confused-eon-7</a></strong> to <a href=\"https://wandb.ai/liebelife/adapter_CV_2x2\" target=\"_blank\">Weights & Biases</a> (<a href=\"https://docs.wandb.com/integrations/jupyter.html\" target=\"_blank\">docs</a>).<br/>\n",
       "\n",
       "                "
      ],
      "text/plain": [
       "<IPython.core.display.HTML object>"
      ]
     },
     "metadata": {},
     "output_type": "display_data"
    },
    {
     "name": "stderr",
     "output_type": "stream",
     "text": [
      "Some weights of the model checkpoint at /home/lieberze/DP/Thesis/05_model_training/roberta-trained-new-tokenizer_params_4 were not used when initializing RobertaModelWithHeads: ['lm_head.bias', 'lm_head.dense.weight', 'lm_head.dense.bias', 'lm_head.layer_norm.weight', 'lm_head.layer_norm.bias']\n",
      "- This IS expected if you are initializing RobertaModelWithHeads from the checkpoint of a model trained on another task or with another architecture (e.g. initializing a BertForSequenceClassification model from a BertForPreTraining model).\n",
      "- This IS NOT expected if you are initializing RobertaModelWithHeads from the checkpoint of a model that you expect to be exactly identical (initializing a BertForSequenceClassification model from a BertForSequenceClassification model).\n",
      "Some weights of RobertaModelWithHeads were not initialized from the model checkpoint at /home/lieberze/DP/Thesis/05_model_training/roberta-trained-new-tokenizer_params_4 and are newly initialized: ['roberta.pooler.dense.weight', 'roberta.pooler.dense.bias']\n",
      "You should probably TRAIN this model on a down-stream task to be able to use it for predictions and inference.\n"
     ]
    },
    {
     "name": "stdout",
     "output_type": "stream",
     "text": [
      "total_optimization_steps: 15000 \n",
      "how many 'eval_steps' to set: 1500 \n",
      "how many steps in each evaluation stop: 104 \n",
      "hence in total: 156000 steps for the whole evaluation\n"
     ]
    },
    {
     "name": "stderr",
     "output_type": "stream",
     "text": [
      "***** Running training *****\n",
      "  Num examples = 180000\n",
      "  Num Epochs = 4\n",
      "  Instantaneous batch size per device = 16\n",
      "  Total train batch size (w. parallel, distributed & accumulation) = 48\n",
      "  Gradient Accumulation steps = 1\n",
      "  Total optimization steps = 15000\n",
      "Automatic Weights & Biases logging enabled, to disable set os.environ[\"WANDB_DISABLED\"] = \"true\"\n",
      "/home/lieberze/.conda/envs/bio/lib/python3.6/site-packages/torch/nn/parallel/_functions.py:68: UserWarning: Was asked to gather along dimension 0, but all input tensors were scalars; will instead unsqueeze and return a vector.\n",
      "  warnings.warn('Was asked to gather along dimension 0, but all '\n"
     ]
    },
    {
     "data": {
      "text/html": [
       "\n",
       "    <div>\n",
       "      \n",
       "      <progress value='197' max='15000' style='width:300px; height:20px; vertical-align: middle;'></progress>\n",
       "      [  197/15000 03:42 < 4:41:33, 0.88 it/s, Epoch 0.05/4]\n",
       "    </div>\n",
       "    <table border=\"1\" class=\"dataframe\">\n",
       "  <thead>\n",
       "    <tr style=\"text-align: left;\">\n",
       "      <th>Step</th>\n",
       "      <th>Training Loss</th>\n",
       "      <th>Validation Loss</th>\n",
       "    </tr>\n",
       "  </thead>\n",
       "  <tbody>\n",
       "  </tbody>\n",
       "</table><p>"
      ],
      "text/plain": [
       "<IPython.core.display.HTML object>"
      ]
     },
     "metadata": {},
     "output_type": "display_data"
    }
   ],
   "source": [
    "for i, result in enumerate(split_generator):   \n",
    "    wandb.init(project = f\"adapter_CV_{suffix}\")\n",
    "    \n",
    "    # create datasets for k-fold\n",
    "    train, validation = df_TRAIN.iloc[result[0]], df_TRAIN.iloc[result[1]]\n",
    "    train = train.reset_index()\n",
    "    validation = validation.reset_index()    \n",
    "    data_set_train = data_set(train[\"sequence\"],train[\"type\"], tokenizer)\n",
    "    data_set_eval = data_set(validation[\"sequence\"],validation[\"type\"], tokenizer)\n",
    "    \n",
    "    # initialise model and adapter instance\n",
    "    AdapterName = f\"{suffix}_fold_{i}\"\n",
    "    model = AutoModelWithHeads.from_pretrained(TransformerName)\n",
    "    model.add_adapter(AdapterName)\n",
    "    model.add_classification_head(AdapterName, num_labels=len(CATEGORIES), id2label = id2label) #, multilabel=False)\n",
    "    model.train_adapter(AdapterName) # inicializace\n",
    "\n",
    "    # calculate eval_steps_to_set and some info to print\n",
    "    WANTED_eval_data_points_ratio = 0.1 # 10% of all optimization steps is going to have an evaluation datapoint (loss)\n",
    "    total_optimization_steps = round(len(train)/TrainBatchSize/num_GPU)*NumberOfEpochs\n",
    "    eval_steps_in_one_run = round(len(validation)/(NumberOfEpochs*TrainBatchSize)/num_GPU) \n",
    "    eval_steps_to_set=int(round(total_optimization_steps*WANTED_eval_data_points_ratio, 0))\n",
    "    print(\"total_optimization_steps:\",total_optimization_steps,\n",
    "          \"\\nhow many 'eval_steps' to set:\",eval_steps_to_set,\n",
    "          \"\\nhow many steps in each evaluation stop:\",eval_steps_in_one_run,\n",
    "          \"\\nhence in total:\", eval_steps_to_set*eval_steps_in_one_run, \"steps for the whole evaluation\" )\n",
    "\n",
    "    training_args =  TrainingArguments(\n",
    "        learning_rate=LearningRate,\n",
    "        num_train_epochs=NumberOfEpochs,\n",
    "        report_to=\"wandb\",\n",
    "        output_dir = SaveToFolder,\n",
    "        label_names = CATEGORIES,\n",
    "        eval_steps = eval_steps_to_set, \n",
    "        evaluation_strategy=\"steps\",\n",
    "        per_device_train_batch_size=TrainBatchSize,\n",
    "        per_device_eval_batch_size=EvalBatchSize,\n",
    "        do_eval=True,\n",
    "        logging_steps=100, \n",
    "        warmup_ratio = WarmupRatio,\n",
    "        adam_epsilon=AdamEpsilon,\n",
    "        weight_decay=WeightDecay,\n",
    "        save_steps=10_000,\n",
    "        save_total_limit=2,\n",
    "         # The next line is important to ensure the dataset labels are properly passed to the model\n",
    "        remove_unused_columns=False,\n",
    "        seed=1,\n",
    "    )\n",
    "    \n",
    "    ## problem: compute_metrics doesn't get called by the adapter training\n",
    "    # https://discuss.huggingface.co/t/trainer-never-invokes-compute-metrics/11440/4\n",
    "    def compute_metrics(p: EvalPrediction):\n",
    "        logits, labels = p\n",
    "        preds = np.argmax(logits, axis=-1)\n",
    "        acc = accuracy_score(labels, preds)\n",
    "        f1_weighted = f1_score(labels, preds, average='weighted')\n",
    "        \n",
    "        report = metrics.classification_report(labels, preds, digits=2, output_dict=True, zero_division=0)\n",
    "        df_report = pd.DataFrame(report).transpose()\n",
    "        return {\"acc\": acc, \"f1_weighted\": f1_weighted, \"report\":df_report}\n",
    "\n",
    "    model.metrics=['f1_weighted']\n",
    "\n",
    "    trainer = AdapterTrainer(\n",
    "            model=model,\n",
    "            args=training_args,\n",
    "            train_dataset=data_set_train,\n",
    "            eval_dataset=data_set_eval,\n",
    "            compute_metrics = compute_metrics,\n",
    "        )\n",
    "\n",
    "    # first train model, save results\n",
    "    result = trainer.train()\n",
    "    \n",
    "    # evaluation metrics, manually, because (for unknown reason) the model itself doesn't return them\n",
    "    y_pr = data_set_eval.labels\n",
    "    y_pr = [label2id[i] for i in y_pr]\n",
    "    loss = trainer.compute_metrics([trainer.predict(data_set_eval).predictions[1], y_pr])\n",
    "    Metrics = trainer.evaluate()\n",
    "    \n",
    "    print(loss, Metrics)\n",
    "    !mkdir -p $Adapter/$SaveToFolder/$AdapterName\n",
    "    \n",
    "    # saving results\n",
    "    with open(f\"{Adapter}/{SaveToFolder}/{AdapterName}/metrics_{suffix}.pkl\", \"wb\") as f:\n",
    "        pickle.dump({\"loss\":loss, \"metrics\":Metrics, \"result\":result}, f)\n",
    "\n",
    "    # saving adapter\n",
    "    trainer.save_model(SaveToFolder) # folder into which we save (the name is in the trainer)\n",
    "    wandb.finish()"
   ]
  },
  {
   "cell_type": "markdown",
   "id": "21a45e9e-8337-46e1-874c-c0d583a5a016",
   "metadata": {
    "tags": []
   },
   "source": [
    "## Pak nějak pohrotit ty výsledky cross validace:"
   ]
  },
  {
   "cell_type": "code",
   "execution_count": 10,
   "id": "f805af4d-ad3b-4f60-9d44-53c9423fc550",
   "metadata": {},
   "outputs": [
    {
     "data": {
      "text/plain": [
       "{'exon': 0, 'other': 1}"
      ]
     },
     "execution_count": 10,
     "metadata": {},
     "output_type": "execute_result"
    }
   ],
   "source": [
    "label2id"
   ]
  },
  {
   "cell_type": "markdown",
   "id": "632f82d3-526b-4a09-813b-b8e7a641c1ac",
   "metadata": {},
   "source": [
    "Example for one fold:"
   ]
  },
  {
   "cell_type": "code",
   "execution_count": 80,
   "id": "ec1d1317-5001-4669-8e98-1808eb869bff",
   "metadata": {},
   "outputs": [],
   "source": [
    "# AdapterName = f\"{suffix}_fold_9\"\n",
    "# with open(f\"{SaveToFolder}/{AdapterName}/metrics_{suffix}.pkl\", \"rb\") as f:\n",
    "#     x = pickle.load(f)\n",
    "#     print(x)\n",
    "\n",
    "# x[\"loss\"]\n",
    "# x[\"metrics\"]\n",
    "# x[\"result\"]"
   ]
  },
  {
   "cell_type": "markdown",
   "id": "569bcc34-aa63-45fd-bc00-6c51d2121128",
   "metadata": {},
   "source": [
    "tabulka pro celý cv train"
   ]
  },
  {
   "cell_type": "code",
   "execution_count": 85,
   "id": "785d6915-d99c-4322-b5d1-d10fdd7b188e",
   "metadata": {},
   "outputs": [
    {
     "data": {
      "text/html": [
       "<div>\n",
       "<style scoped>\n",
       "    .dataframe tbody tr th:only-of-type {\n",
       "        vertical-align: middle;\n",
       "    }\n",
       "\n",
       "    .dataframe tbody tr th {\n",
       "        vertical-align: top;\n",
       "    }\n",
       "\n",
       "    .dataframe thead th {\n",
       "        text-align: right;\n",
       "    }\n",
       "</style>\n",
       "<table border=\"1\" class=\"dataframe\">\n",
       "  <thead>\n",
       "    <tr style=\"text-align: right;\">\n",
       "      <th></th>\n",
       "      <th>accuracy</th>\n",
       "      <th>precision_weighted</th>\n",
       "      <th>recall_weighted</th>\n",
       "      <th>f1_weighted</th>\n",
       "    </tr>\n",
       "  </thead>\n",
       "  <tbody>\n",
       "    <tr>\n",
       "      <th>0</th>\n",
       "      <td>0.783 ± 0.003</td>\n",
       "      <td>0.789 ± 0.003</td>\n",
       "      <td>0.783 ± 0.003</td>\n",
       "      <td>0.782 ± 0.003</td>\n",
       "    </tr>\n",
       "  </tbody>\n",
       "</table>\n",
       "</div>"
      ],
      "text/plain": [
       "        accuracy precision_weighted recall_weighted    f1_weighted\n",
       "0  0.783 ± 0.003      0.789 ± 0.003   0.783 ± 0.003  0.782 ± 0.003"
      ]
     },
     "metadata": {},
     "output_type": "display_data"
    }
   ],
   "source": [
    "round_to = 3\n",
    "rslts = []\n",
    "for i in range(10):   \n",
    "    AdapterName = f\"{suffix}_fold_{i}\"\n",
    "    with open(f\"{SaveToFolder}/{AdapterName}/metrics_{suffix}.pkl\", \"rb\") as f:\n",
    "        x = pickle.load(f)\n",
    "        acc = x[\"loss\"][\"acc\"]\n",
    "        f1_w = x[\"loss\"][\"f1_weighted\"]\n",
    "        pcsn_w = x[\"loss\"][\"report\"][\"precision\"][\"weighted avg\"]\n",
    "        recall_w = x[\"loss\"][\"report\"][\"recall\"][\"weighted avg\"]\n",
    "        rslts.append({\"accuracy\":acc, \"f1_weighted\":f1_w, \"precision_weighted\":pcsn_w, \"recall_weighted\":recall_w})\n",
    "        \n",
    "df_results = {}\n",
    "for i, name in enumerate([\"accuracy\", \"precision_weighted\", \"recall_weighted\", \"f1_weighted\"]):\n",
    "    v = []\n",
    "    for j, values in enumerate(rslts):\n",
    "        v.append(values[name])\n",
    "    mean = round(np.mean(v), round_to)\n",
    "    std = round(np.std(v), round_to)\n",
    "    df_results[name] = f\"{mean} \\u00B1 {std}\"\n",
    "dataframe = pd.DataFrame.from_dict(df_results,orient='index').T\n",
    "display(dataframe)"
   ]
  },
  {
   "cell_type": "markdown",
   "id": "ea4ddee3-5d6a-485b-8995-102174b99d8d",
   "metadata": {},
   "source": [
    "## Load adapter, test on holdout:"
   ]
  },
  {
   "cell_type": "code",
   "execution_count": 42,
   "id": "649321af-0340-438b-ba1a-6d2570fbcd25",
   "metadata": {},
   "outputs": [
    {
     "name": "stderr",
     "output_type": "stream",
     "text": [
      "loading configuration file /home/lieberze/DP/Thesis/05_model_training/roberta-trained-new-tokenizer_params_4/config.json\n",
      "Model config RobertaConfig {\n",
      "  \"adapters\": {\n",
      "    \"adapters\": {},\n",
      "    \"config_map\": {},\n",
      "    \"fusion_config_map\": {},\n",
      "    \"fusions\": {}\n",
      "  },\n",
      "  \"architectures\": [\n",
      "    \"RobertaForMaskedLM\"\n",
      "  ],\n",
      "  \"attention_probs_dropout_prob\": 0.1,\n",
      "  \"bos_token_id\": 0,\n",
      "  \"classifier_dropout\": null,\n",
      "  \"eos_token_id\": 2,\n",
      "  \"hidden_act\": \"gelu\",\n",
      "  \"hidden_dropout_prob\": 0.1,\n",
      "  \"hidden_size\": 768,\n",
      "  \"initializer_range\": 0.02,\n",
      "  \"intermediate_size\": 3072,\n",
      "  \"layer_norm_eps\": 1e-12,\n",
      "  \"max_position_embeddings\": 512,\n",
      "  \"model_type\": \"roberta\",\n",
      "  \"num_attention_heads\": 12,\n",
      "  \"num_hidden_layers\": 6,\n",
      "  \"pad_token_id\": 1,\n",
      "  \"position_embedding_type\": \"absolute\",\n",
      "  \"torch_dtype\": \"float32\",\n",
      "  \"transformers_version\": \"4.11.3\",\n",
      "  \"type_vocab_size\": 1,\n",
      "  \"use_cache\": true,\n",
      "  \"vocab_size\": 5000\n",
      "}\n",
      "\n",
      "loading weights file /home/lieberze/DP/Thesis/05_model_training/roberta-trained-new-tokenizer_params_4/pytorch_model.bin\n",
      "Some weights of the model checkpoint at /home/lieberze/DP/Thesis/05_model_training/roberta-trained-new-tokenizer_params_4 were not used when initializing RobertaModelWithHeads: ['lm_head.dense.bias', 'lm_head.bias', 'lm_head.dense.weight', 'lm_head.layer_norm.weight', 'lm_head.layer_norm.bias']\n",
      "- This IS expected if you are initializing RobertaModelWithHeads from the checkpoint of a model trained on another task or with another architecture (e.g. initializing a BertForSequenceClassification model from a BertForPreTraining model).\n",
      "- This IS NOT expected if you are initializing RobertaModelWithHeads from the checkpoint of a model that you expect to be exactly identical (initializing a BertForSequenceClassification model from a BertForSequenceClassification model).\n",
      "Some weights of RobertaModelWithHeads were not initialized from the model checkpoint at /home/lieberze/DP/Thesis/05_model_training/roberta-trained-new-tokenizer_params_4 and are newly initialized: ['roberta.pooler.dense.bias', 'roberta.pooler.dense.weight']\n",
      "You should probably TRAIN this model on a down-stream task to be able to use it for predictions and inference.\n",
      "Loading module configuration from 2x2_CV/2x2_fold_9/adapter_config.json\n",
      "Adding adapter '2x2_fold_9'.\n",
      "Loading module weights from 2x2_CV/2x2_fold_9/pytorch_adapter.bin\n",
      "Loading module configuration from 2x2_CV/2x2_fold_9/head_config.json\n",
      "Adding head '2x2_fold_9' with config {'head_type': 'classification', 'num_labels': 2, 'layers': 2, 'activation_function': 'tanh', 'label2id': {'exon': 0, 'other': 1}, 'use_pooler': False, 'bias': True}.\n",
      "Loading module weights from 2x2_CV/2x2_fold_9/pytorch_model_head.bin\n"
     ]
    },
    {
     "name": "stdout",
     "output_type": "stream",
     "text": [
      "[{'label': 'other', 'score': 0.9920433163642883}, {'label': 'other', 'score': 0.6109282374382019}, {'label': 'other', 'score': 0.5138822197914124}, {'label': 'other', 'score': 0.8132076263427734}, {'label': 'exon', 'score': 0.9966337084770203}, {'label': 'other', 'score': 0.8457860946655273}, {'label': 'other', 'score': 0.9093680381774902}, {'label': 'exon', 'score': 0.9741445183753967}, {'label': 'other', 'score': 0.9967663288116455}, {'label': 'other', 'score': 0.580020546913147}, {'label': 'exon', 'score': 0.5042201280593872}, {'label': 'other', 'score': 0.6785594820976257}, {'label': 'other', 'score': 0.8763695955276489}, {'label': 'other', 'score': 0.858424186706543}, {'label': 'other', 'score': 0.954585611820221}, {'label': 'exon', 'score': 0.9773205518722534}, {'label': 'other', 'score': 0.9965689182281494}, {'label': 'exon', 'score': 0.6326848864555359}, {'label': 'other', 'score': 0.8636928200721741}, {'label': 'exon', 'score': 0.9970558881759644}, {'label': 'exon', 'score': 0.6263464689254761}, {'label': 'other', 'score': 0.9212679266929626}, {'label': 'other', 'score': 0.7702581882476807}, {'label': 'exon', 'score': 0.7207807898521423}, {'label': 'other', 'score': 0.8622906804084778}, {'label': 'other', 'score': 0.7754929661750793}, {'label': 'exon', 'score': 0.7923675775527954}, {'label': 'other', 'score': 0.9733970165252686}, {'label': 'other', 'score': 0.7097281217575073}, {'label': 'exon', 'score': 0.5026419162750244}]\n"
     ]
    }
   ],
   "source": [
    "from transformers import TextClassificationPipeline\n",
    "model = AutoModelWithHeads.from_pretrained(TransformerName)\n",
    "tokenizer = tokenizer\n",
    "\n",
    "adapter1 = model.load_adapter(f\"{SaveToFolder}/{suffix}_fold_9\")\n",
    "model.active_adapters = adapter1\n",
    "\n",
    "classifier = TextClassificationPipeline(model=model, tokenizer=tokenizer, device=training_args.device.index)\n",
    "\n",
    "sequences = list(df_HOLDOUT.sequence)\n",
    "true_labels = list(df_HOLDOUT.type)\n",
    "pred_labels = classifier(sequences)\n",
    "\n",
    "pred_lab = [i[\"label\"] for i in pred_labels]\n",
    "pred_score = [i[\"score\"] for i in pred_labels]\n",
    "\n",
    "print(pred_labels[:30])\n",
    "\n",
    "import pickle\n",
    "with open(f\"{SaveToFolder}/pred_labels_fold_9_{suffix}.pk\", 'wb') as f:\n",
    "    pickle.dump(pred_labels, f)"
   ]
  },
  {
   "cell_type": "markdown",
   "id": "f9f7e909-909b-4dc1-a6d0-0f6b41d9ebf7",
   "metadata": {},
   "source": [
    "tady je videt, ze jakmile je to exon, tak si je hodne jistej => nejspis se uci podle delky :/"
   ]
  },
  {
   "cell_type": "code",
   "execution_count": 57,
   "id": "ec95addc-2f51-4613-99c5-a8afa76eb6fc",
   "metadata": {},
   "outputs": [
    {
     "data": {
      "image/png": "[encoded data removed]",
      "text/plain": [
       "<Figure size 576x432 with 2 Axes>"
      ]
     },
     "metadata": {},
     "output_type": "display_data"
    },
    {
     "name": "stdout",
     "output_type": "stream",
     "text": [
      "              precision   recall  f1-score       support\n",
      "exon           0.835664  0.70998  0.767712  100000.00000\n",
      "other          0.747896  0.86038  0.800205  100000.00000\n",
      "accuracy       0.785180  0.78518  0.785180       0.78518\n",
      "macro avg      0.791780  0.78518  0.783958  200000.00000\n",
      "weighted avg   0.791780  0.78518  0.783958  200000.00000\n"
     ]
    }
   ],
   "source": [
    "import sys \n",
    "sys.path.insert(0, \"./../\" )\n",
    "from my_classes import ClassificationMetrics\n",
    "\n",
    "# create and save conf matrix\n",
    "TitleName = \"Adapter\"\n",
    "CMName = f\"{Adapter}/{SaveToFolder}/confusion_matrix_{suffix}.png\"\n",
    "ClassificationMetrics.ConfMatrix(true_labels, pred_lab, CATEGORIES, TitleName, CMName)\n",
    "\n",
    "report = metrics.classification_report(true_labels, pred_lab, digits=2, output_dict=True, zero_division=0)\n",
    "df_report = pd.DataFrame(report).transpose()\n",
    "df_report.to_pickle(f\"{Adapter}/{SaveToFolder}/report_{suffix}.pkl\")\n",
    "df_report.to_excel(f\"{Adapter}/{SaveToFolder}/report_holdout_{suffix}.xlsx\") \n",
    "print(df_report)"
   ]
  }
 ],
 "metadata": {
  "kernelspec": {
   "display_name": "Python 3",
   "language": "python",
   "name": "python3"
  },
  "language_info": {
   "codemirror_mode": {
    "name": "ipython",
    "version": 3
   },
   "file_extension": ".py",
   "mimetype": "text/x-python",
   "name": "python",
   "nbconvert_exporter": "python",
   "pygments_lexer": "ipython3",
   "version": "3.6.13"
  }
 },
 "nbformat": 4,
 "nbformat_minor": 5
}
