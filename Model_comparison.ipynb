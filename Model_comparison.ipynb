{
 "cells": [
  {
   "cell_type": "markdown",
   "id": "53177f44-34ad-425e-ac71-d83cc6165a96",
   "metadata": {},
   "source": [
    "# Mc Nemar's test"
   ]
  },
  {
   "cell_type": "markdown",
   "id": "29383a5b-4d9d-4737-a214-61ce7c051813",
   "metadata": {},
   "source": [
    "https://machinelearningmastery.com/mcnemars-test-for-machine-learning/"
   ]
  },
  {
   "cell_type": "code",
   "execution_count": 1,
   "id": "89b535c8-1469-46d7-8818-b6700a265399",
   "metadata": {},
   "outputs": [],
   "source": [
    "import os \n",
    "\n",
    "RootFolder = \"/home/lieberze/DP/Thesis/\"\n",
    "Baseline = os.path.abspath(os.path.join(RootFolder, \"04_baseline\"))\n",
    "Adapter = os.path.abspath(os.path.join(RootFolder, \"06_adapter\"))\n",
    "\n",
    "XGB_Baseline_binary = os.path.abspath(os.path.join(Baseline, \"Models_and_Results/BLBPE/XGBClassifier/pred_labels2x2.pk\"))\n",
    "XGB_Baseline_multilabel = os.path.abspath(os.path.join(Baseline, \"Models_and_Results/BLBPE/XGBClassifier/pred_labels3x3.pk\"))\n",
    "\n",
    "Adapter_binary = os.path.abspath(os.path.join(Adapter, \"2x2_CV/pred_labels_fold_9_2x2.pk\"))\n",
    "Adapter_multilabel = os.path.abspath(os.path.join(Adapter, \"3x3_CV/pred_labels_fold_9_3x3.pk\"))\n",
    "\n",
    "# kdyby nahodou:\n",
    "DataFolder = os.path.abspath(os.path.join(Baseline, \"data\"))\n",
    "TestFolder = os.path.abspath(os.path.join(DataFolder, \"test\"))\n",
    "TestFile_Multilabel = os.path.abspath(os.path.join(TestFolder, \"Test_holdout_100k.txt\"))\n",
    "TestFile_Binary = os.path.abspath(os.path.join(TestFolder, \"2x2_test_100k.txt\"))"
   ]
  },
  {
   "cell_type": "code",
   "execution_count": 2,
   "id": "96d1b606-7598-472e-88a5-ca2c96a3f780",
   "metadata": {},
   "outputs": [],
   "source": [
    "import pickle\n",
    "import numpy as np\n",
    "import pandas as pd"
   ]
  },
  {
   "cell_type": "code",
   "execution_count": 3,
   "id": "d7fe37f2-6ceb-4bd5-b115-dffd51924b20",
   "metadata": {},
   "outputs": [],
   "source": [
    "def LoadFile(Name):\n",
    "    with open(Name, 'rb') as f:\n",
    "        data = pickle.load(f) \n",
    "    return data"
   ]
  },
  {
   "cell_type": "markdown",
   "id": "634780c0-fd32-4240-80cc-7379ab8289b2",
   "metadata": {},
   "source": [
    "### Binary classification"
   ]
  },
  {
   "cell_type": "markdown",
   "id": "f159cb8a-c8d0-455a-89df-088ec1bd1fa8",
   "metadata": {},
   "source": [
    "Load the predictions"
   ]
  },
  {
   "cell_type": "code",
   "execution_count": 4,
   "id": "e80f6dc5-e6d3-4e68-9f25-a20aa5ee0375",
   "metadata": {},
   "outputs": [
    {
     "data": {
      "text/plain": [
       "(200000, 200000, 200000)"
      ]
     },
     "execution_count": 4,
     "metadata": {},
     "output_type": "execute_result"
    }
   ],
   "source": [
    "baseline_2x2 = list(LoadFile(XGB_Baseline_binary))\n",
    "adapter_2x2 = [x[\"label\"] for x in LoadFile(Adapter_binary)]\n",
    "true_labels_2x2 = []\n",
    "with open(TestFile_Binary, \"r\") as f:\n",
    "    for i in f:\n",
    "        true_labels_2x2.append(i.split()[0])\n",
    "subs = {\n",
    "        \"exon\": \"exon\", \n",
    "        \"intron\": \"other\",\n",
    "        \"intergenic\": \"other\"\n",
    "            }\n",
    "true_labels_2x2 = [subs.get(item) for item in true_labels_2x2]\n",
    "len(baseline_2x2), len(adapter_2x2), len(true_labels_2x2)"
   ]
  },
  {
   "cell_type": "code",
   "execution_count": 5,
   "id": "deace9b0-3520-4d1a-8df6-e78c915fa59e",
   "metadata": {},
   "outputs": [
    {
     "data": {
      "text/plain": [
       "(['exon', 'exon', 'exon', 'other', 'other'],\n",
       " ['other', 'other', 'other', 'other', 'exon'],\n",
       " ['other', 'exon', 'exon', 'other', 'exon'])"
      ]
     },
     "execution_count": 5,
     "metadata": {},
     "output_type": "execute_result"
    }
   ],
   "source": [
    "baseline_2x2[:5], adapter_2x2[:5], true_labels_2x2[:5]"
   ]
  },
  {
   "cell_type": "markdown",
   "id": "34f9af57-dce5-4ac3-984d-d887bd0b3fcc",
   "metadata": {},
   "source": [
    "Create a contingency table from the predictions"
   ]
  },
  {
   "cell_type": "code",
   "execution_count": 6,
   "id": "55dfa6c8-4f2e-4bbc-bfba-b4e8e7ab38df",
   "metadata": {},
   "outputs": [
    {
     "data": {
      "text/html": [
       "<div>\n",
       "<style scoped>\n",
       "    .dataframe tbody tr th:only-of-type {\n",
       "        vertical-align: middle;\n",
       "    }\n",
       "\n",
       "    .dataframe tbody tr th {\n",
       "        vertical-align: top;\n",
       "    }\n",
       "\n",
       "    .dataframe thead th {\n",
       "        text-align: right;\n",
       "    }\n",
       "</style>\n",
       "<table border=\"1\" class=\"dataframe\">\n",
       "  <thead>\n",
       "    <tr style=\"text-align: right;\">\n",
       "      <th></th>\n",
       "      <th>baseline</th>\n",
       "      <th>adapter</th>\n",
       "      <th>true_labels</th>\n",
       "      <th>hit baseline</th>\n",
       "      <th>hit adapter</th>\n",
       "    </tr>\n",
       "  </thead>\n",
       "  <tbody>\n",
       "    <tr>\n",
       "      <th>0</th>\n",
       "      <td>exon</td>\n",
       "      <td>other</td>\n",
       "      <td>other</td>\n",
       "      <td>False</td>\n",
       "      <td>True</td>\n",
       "    </tr>\n",
       "    <tr>\n",
       "      <th>1</th>\n",
       "      <td>exon</td>\n",
       "      <td>other</td>\n",
       "      <td>exon</td>\n",
       "      <td>True</td>\n",
       "      <td>False</td>\n",
       "    </tr>\n",
       "    <tr>\n",
       "      <th>2</th>\n",
       "      <td>exon</td>\n",
       "      <td>other</td>\n",
       "      <td>exon</td>\n",
       "      <td>True</td>\n",
       "      <td>False</td>\n",
       "    </tr>\n",
       "    <tr>\n",
       "      <th>3</th>\n",
       "      <td>other</td>\n",
       "      <td>other</td>\n",
       "      <td>other</td>\n",
       "      <td>True</td>\n",
       "      <td>True</td>\n",
       "    </tr>\n",
       "    <tr>\n",
       "      <th>4</th>\n",
       "      <td>other</td>\n",
       "      <td>exon</td>\n",
       "      <td>exon</td>\n",
       "      <td>False</td>\n",
       "      <td>True</td>\n",
       "    </tr>\n",
       "  </tbody>\n",
       "</table>\n",
       "</div>"
      ],
      "text/plain": [
       "  baseline adapter true_labels  hit baseline  hit adapter\n",
       "0     exon   other       other         False         True\n",
       "1     exon   other        exon          True        False\n",
       "2     exon   other        exon          True        False\n",
       "3    other   other       other          True         True\n",
       "4    other    exon        exon         False         True"
      ]
     },
     "execution_count": 6,
     "metadata": {},
     "output_type": "execute_result"
    }
   ],
   "source": [
    "df = pd.DataFrame({\"baseline\":baseline_2x2, \"adapter\": adapter_2x2, \"true_labels\":true_labels_2x2})\n",
    "df[\"hit baseline\"] = np.where(df[\"baseline\"] == df[\"true_labels\"], True, False)\n",
    "df[\"hit adapter\"] = np.where(df[\"adapter\"] == df[\"true_labels\"], True, False)\n",
    "df.head()"
   ]
  },
  {
   "cell_type": "code",
   "execution_count": 7,
   "id": "40f3f650-b4c7-47dd-b786-874959cc3e7e",
   "metadata": {},
   "outputs": [
    {
     "name": "stdout",
     "output_type": "stream",
     "text": [
      "[[113527, 43509], [21873, 21091]] sum: 200000\n"
     ]
    }
   ],
   "source": [
    "# contingency_table_2x2 = df[[\"hit baseline\", \"hit adapter\"]]\n",
    "# contingency_table_2x2.head()\n",
    "\n",
    "hit_both = int(sum(np.where((df[\"hit adapter\"] == True) & (df[\"hit baseline\"] == True), True, False)))\n",
    "hit_adapter_only = int(sum(np.where((df[\"hit adapter\"] == True) & (df[\"hit baseline\"] == False), True, False)))\n",
    "hit_baseline_only = int(sum(np.where((df[\"hit adapter\"] == False) & (df[\"hit baseline\"] == True), True, False)))\n",
    "hit_none = int(sum(np.where((df[\"hit adapter\"] == False) & (df[\"hit baseline\"] == False), True, False)))\n",
    "\n",
    "table = [[hit_both, hit_adapter_only], [hit_baseline_only, hit_none]]\n",
    "sum_numbers = sum([sum(i) for i in table])\n",
    "print(table, \"sum:\", sum_numbers)"
   ]
  },
  {
   "cell_type": "code",
   "execution_count": 8,
   "id": "d2301571-a0ac-4ac7-879b-e7d939ad5c32",
   "metadata": {},
   "outputs": [
    {
     "data": {
      "text/plain": [
       "(43509, 21873)"
      ]
     },
     "execution_count": 8,
     "metadata": {},
     "output_type": "execute_result"
    }
   ],
   "source": [
    "# the important ones for the test\n",
    "hit_adapter_only, hit_baseline_only"
   ]
  },
  {
   "attachments": {
    "2ae92680-a514-41b1-8772-24e1c03deea1.png": {
     "image/png": "[encoded data removed]"
    }
   },
   "cell_type": "markdown",
   "id": "e05888b2-7f79-4cc8-84f7-607b493b7335",
   "metadata": {},
   "source": [
    "![image.png](attachment:2ae92680-a514-41b1-8772-24e1c03deea1.png)"
   ]
  },
  {
   "cell_type": "markdown",
   "id": "e2c6e746-6b66-4a03-814a-3628fd980520",
   "metadata": {},
   "source": [
    "Test"
   ]
  },
  {
   "cell_type": "code",
   "execution_count": 9,
   "id": "b4f072a1-d33a-40d6-a12e-681f1e420e95",
   "metadata": {},
   "outputs": [
    {
     "data": {
      "text/plain": [
       "7159.053332721544"
      ]
     },
     "execution_count": 9,
     "metadata": {},
     "output_type": "execute_result"
    }
   ],
   "source": [
    "statistic = (np.abs(hit_adapter_only - hit_baseline_only)-1)**2 / (hit_adapter_only + hit_baseline_only)\n",
    "statistic"
   ]
  },
  {
   "cell_type": "code",
   "execution_count": 10,
   "id": "fe2b118c-c7ff-46aa-b275-cbddc20e491f",
   "metadata": {},
   "outputs": [
    {
     "name": "stdout",
     "output_type": "stream",
     "text": [
      "statistic=7159.053, p-value=0.000\n",
      "Different proportions of errors (reject H0)\n"
     ]
    }
   ],
   "source": [
    "# Example of calculating the mcnemar test\n",
    "from statsmodels.stats.contingency_tables import mcnemar\n",
    "# define contingency table\n",
    "table = table\n",
    "# calculate mcnemar test\n",
    "result = mcnemar(table, exact=False,  correction=True)# summarize the finding\n",
    "print('statistic=%.3f, p-value=%.3f' % (result.statistic, result.pvalue))\n",
    "# interpret the p-value\n",
    "alpha = 0.05\n",
    "if result.pvalue > alpha:\n",
    "\tprint('Same proportions of errors (fail to reject H0)')\n",
    "else:\n",
    "\tprint('Different proportions of errors (reject H0)')"
   ]
  },
  {
   "cell_type": "markdown",
   "id": "3076139b-f7c8-4608-9721-f245e59fdbb1",
   "metadata": {},
   "source": [
    "Large values?"
   ]
  },
  {
   "cell_type": "code",
   "execution_count": 11,
   "id": "866e3119-a607-45d5-9c69-2f3a67648ce1",
   "metadata": {},
   "outputs": [],
   "source": [
    "# https://stats.stackexchange.com/questions/104264/is-this-normal-to-have-big-value-of-chi-squared"
   ]
  },
  {
   "cell_type": "markdown",
   "id": "cc579dec-fdf9-4785-b453-360da135ae33",
   "metadata": {},
   "source": [
    "### Multilabel classification \n",
    "pravdepodobne not the way to go, maybe https://ncss-wpengine.netdna-ssl.com/wp-content/themes/ncss/pdf/Procedures/PASS/Tests_for_Multiple_Correlated_Proportions-McNemar-Bowker_Test_of_Symmetry.pdf)"
   ]
  },
  {
   "cell_type": "markdown",
   "id": "4fbff249-3574-421b-9f37-d90c1bce8883",
   "metadata": {},
   "source": [
    "Load the predictions"
   ]
  },
  {
   "cell_type": "code",
   "execution_count": 12,
   "id": "5d9f6326-9cc2-43fb-be97-5bc8f777d2cc",
   "metadata": {},
   "outputs": [
    {
     "data": {
      "text/plain": [
       "(100000, 100000, 100000)"
      ]
     },
     "execution_count": 12,
     "metadata": {},
     "output_type": "execute_result"
    }
   ],
   "source": [
    "baseline_3x3 = list(LoadFile(XGB_Baseline_multilabel))\n",
    "adapter_3x3 = [x[\"label\"] for x in LoadFile(Adapter_multilabel)]\n",
    "true_labels_3x3 = []\n",
    "with open(TestFile_Multilabel, \"r\") as f:\n",
    "    for i in f:\n",
    "        true_labels_3x3.append(i.split()[0])\n",
    "\n",
    "len(baseline_3x3), len(adapter_3x3), len(true_labels_3x3)"
   ]
  },
  {
   "cell_type": "code",
   "execution_count": 13,
   "id": "cd8aa494-eeea-468e-8bf2-101ba72ca074",
   "metadata": {},
   "outputs": [
    {
     "data": {
      "text/plain": [
       "(['intron', 'exon', 'intron', 'exon', 'exon'],\n",
       " ['exon', 'intron', 'intergenic', 'intergenic', 'exon'],\n",
       " ['intron', 'intron', 'exon', 'intergenic', 'exon'])"
      ]
     },
     "execution_count": 13,
     "metadata": {},
     "output_type": "execute_result"
    }
   ],
   "source": [
    "baseline_3x3[:5], adapter_3x3[:5], true_labels_3x3[:5]"
   ]
  },
  {
   "cell_type": "markdown",
   "id": "b92b178b-3df9-41ff-8a1b-f24ea5c9ef96",
   "metadata": {},
   "source": [
    "Create a contingency table from the predictions"
   ]
  },
  {
   "cell_type": "code",
   "execution_count": 14,
   "id": "ea3ad379-73d5-4018-aaf8-1751072f5654",
   "metadata": {},
   "outputs": [
    {
     "data": {
      "text/html": [
       "<div>\n",
       "<style scoped>\n",
       "    .dataframe tbody tr th:only-of-type {\n",
       "        vertical-align: middle;\n",
       "    }\n",
       "\n",
       "    .dataframe tbody tr th {\n",
       "        vertical-align: top;\n",
       "    }\n",
       "\n",
       "    .dataframe thead th {\n",
       "        text-align: right;\n",
       "    }\n",
       "</style>\n",
       "<table border=\"1\" class=\"dataframe\">\n",
       "  <thead>\n",
       "    <tr style=\"text-align: right;\">\n",
       "      <th></th>\n",
       "      <th>baseline</th>\n",
       "      <th>adapter</th>\n",
       "      <th>true_labels</th>\n",
       "      <th>hit baseline</th>\n",
       "      <th>hit adapter</th>\n",
       "    </tr>\n",
       "  </thead>\n",
       "  <tbody>\n",
       "    <tr>\n",
       "      <th>0</th>\n",
       "      <td>intron</td>\n",
       "      <td>exon</td>\n",
       "      <td>intron</td>\n",
       "      <td>True</td>\n",
       "      <td>False</td>\n",
       "    </tr>\n",
       "    <tr>\n",
       "      <th>1</th>\n",
       "      <td>exon</td>\n",
       "      <td>intron</td>\n",
       "      <td>intron</td>\n",
       "      <td>False</td>\n",
       "      <td>True</td>\n",
       "    </tr>\n",
       "    <tr>\n",
       "      <th>2</th>\n",
       "      <td>intron</td>\n",
       "      <td>intergenic</td>\n",
       "      <td>exon</td>\n",
       "      <td>False</td>\n",
       "      <td>False</td>\n",
       "    </tr>\n",
       "    <tr>\n",
       "      <th>3</th>\n",
       "      <td>exon</td>\n",
       "      <td>intergenic</td>\n",
       "      <td>intergenic</td>\n",
       "      <td>False</td>\n",
       "      <td>True</td>\n",
       "    </tr>\n",
       "    <tr>\n",
       "      <th>4</th>\n",
       "      <td>exon</td>\n",
       "      <td>exon</td>\n",
       "      <td>exon</td>\n",
       "      <td>True</td>\n",
       "      <td>True</td>\n",
       "    </tr>\n",
       "  </tbody>\n",
       "</table>\n",
       "</div>"
      ],
      "text/plain": [
       "  baseline     adapter true_labels  hit baseline  hit adapter\n",
       "0   intron        exon      intron          True        False\n",
       "1     exon      intron      intron         False         True\n",
       "2   intron  intergenic        exon         False        False\n",
       "3     exon  intergenic  intergenic         False         True\n",
       "4     exon        exon        exon          True         True"
      ]
     },
     "execution_count": 14,
     "metadata": {},
     "output_type": "execute_result"
    }
   ],
   "source": [
    "df = pd.DataFrame({\"baseline\":baseline_3x3, \"adapter\": adapter_3x3, \"true_labels\":true_labels_3x3})\n",
    "df[\"hit baseline\"] = np.where(df[\"baseline\"] == df[\"true_labels\"], True, False)\n",
    "df[\"hit adapter\"] = np.where(df[\"adapter\"] == df[\"true_labels\"], True, False)\n",
    "df.head()"
   ]
  },
  {
   "cell_type": "code",
   "execution_count": 15,
   "id": "adb5aef7-823c-475a-80e8-e916f5809244",
   "metadata": {},
   "outputs": [
    {
     "name": "stdout",
     "output_type": "stream",
     "text": [
      "[[30444, 26361], [13631, 29564]] sum: 100000\n"
     ]
    }
   ],
   "source": [
    "hit_both = int(sum(np.where((df[\"hit adapter\"] == True) & (df[\"hit baseline\"] == True), True, False)))\n",
    "hit_adapter_only = int(sum(np.where((df[\"hit adapter\"] == True) & (df[\"hit baseline\"] == False), True, False)))\n",
    "hit_baseline_only = int(sum(np.where((df[\"hit adapter\"] == False) & (df[\"hit baseline\"] == True), True, False)))\n",
    "hit_none = int(sum(np.where((df[\"hit adapter\"] == False) & (df[\"hit baseline\"] == False), True, False)))\n",
    "\n",
    "table = [[hit_both, hit_adapter_only], [hit_baseline_only, hit_none]]\n",
    "sum_numbers = sum([sum(i) for i in table])\n",
    "print(table, \"sum:\",sum_numbers)"
   ]
  },
  {
   "cell_type": "markdown",
   "id": "47a112f2-9dad-433b-bffb-549e31e386cf",
   "metadata": {},
   "source": [
    "Test"
   ]
  },
  {
   "cell_type": "code",
   "execution_count": 16,
   "id": "1d4ddedb-5503-41bf-ac89-de53eb6c104a",
   "metadata": {},
   "outputs": [
    {
     "data": {
      "text/plain": [
       "(26361, 13631)"
      ]
     },
     "execution_count": 16,
     "metadata": {},
     "output_type": "execute_result"
    }
   ],
   "source": [
    "# the important ones for the test\n",
    "hit_adapter_only, hit_baseline_only"
   ]
  },
  {
   "attachments": {
    "2ae92680-a514-41b1-8772-24e1c03deea1.png": {
     "image/png": "[encoded data removed]"
    }
   },
   "cell_type": "markdown",
   "id": "6902a536-5366-48ac-bee0-6d75e63d33a7",
   "metadata": {},
   "source": [
    "![image.png](attachment:2ae92680-a514-41b1-8772-24e1c03deea1.png)"
   ]
  },
  {
   "cell_type": "markdown",
   "id": "942e0ddb-696a-4c2c-89c3-8b28eff9a576",
   "metadata": {},
   "source": [
    "Test"
   ]
  },
  {
   "cell_type": "code",
   "execution_count": 17,
   "id": "8be09975-7991-424e-aa16-37352adcc4da",
   "metadata": {},
   "outputs": [
    {
     "data": {
      "text/plain": [
       "4051.496324264853"
      ]
     },
     "execution_count": 17,
     "metadata": {},
     "output_type": "execute_result"
    }
   ],
   "source": [
    "statistic = (np.abs(hit_adapter_only - hit_baseline_only)-1)**2 / (hit_adapter_only + hit_baseline_only)\n",
    "statistic"
   ]
  },
  {
   "cell_type": "code",
   "execution_count": 18,
   "id": "efc1054c-acab-44c5-973a-a2aa615da68e",
   "metadata": {},
   "outputs": [
    {
     "name": "stdout",
     "output_type": "stream",
     "text": [
      "statistic=4051.496, p-value=0.000\n",
      "Different proportions of errors (reject H0)\n"
     ]
    }
   ],
   "source": [
    "# Example of calculating the mcnemar test\n",
    "from statsmodels.stats.contingency_tables import mcnemar\n",
    "# define contingency table\n",
    "table = table\n",
    "# calculate mcnemar test\n",
    "result = mcnemar(table, exact=False,  correction=True)# summarize the finding\n",
    "print('statistic=%.3f, p-value=%.3f' % (result.statistic, result.pvalue))\n",
    "# interpret the p-value\n",
    "alpha = 0.05\n",
    "if result.pvalue > alpha:\n",
    "\tprint('Same proportions of errors (fail to reject H0)')\n",
    "else:\n",
    "\tprint('Different proportions of errors (reject H0)')"
   ]
  },
  {
   "cell_type": "code",
   "execution_count": 19,
   "id": "e9bfb0b0-3fc3-404f-b95c-bd972dabe5d2",
   "metadata": {},
   "outputs": [
    {
     "data": {
      "text/html": [
       "<div>\n",
       "<style scoped>\n",
       "    .dataframe tbody tr th:only-of-type {\n",
       "        vertical-align: middle;\n",
       "    }\n",
       "\n",
       "    .dataframe tbody tr th {\n",
       "        vertical-align: top;\n",
       "    }\n",
       "\n",
       "    .dataframe thead th {\n",
       "        text-align: right;\n",
       "    }\n",
       "</style>\n",
       "<table border=\"1\" class=\"dataframe\">\n",
       "  <thead>\n",
       "    <tr style=\"text-align: right;\">\n",
       "      <th>hit baseline</th>\n",
       "      <th>False</th>\n",
       "      <th>True</th>\n",
       "    </tr>\n",
       "    <tr>\n",
       "      <th>hit adapter</th>\n",
       "      <th></th>\n",
       "      <th></th>\n",
       "    </tr>\n",
       "  </thead>\n",
       "  <tbody>\n",
       "    <tr>\n",
       "      <th>False</th>\n",
       "      <td>29564</td>\n",
       "      <td>13631</td>\n",
       "    </tr>\n",
       "    <tr>\n",
       "      <th>True</th>\n",
       "      <td>26361</td>\n",
       "      <td>30444</td>\n",
       "    </tr>\n",
       "  </tbody>\n",
       "</table>\n",
       "</div>"
      ],
      "text/plain": [
       "hit baseline  False  True \n",
       "hit adapter               \n",
       "False         29564  13631\n",
       "True          26361  30444"
      ]
     },
     "execution_count": 19,
     "metadata": {},
     "output_type": "execute_result"
    }
   ],
   "source": [
    "myCross = pd.crosstab(df[\"hit adapter\"], df[\"hit baseline\"])\n",
    "myCross"
   ]
  },
  {
   "cell_type": "code",
   "execution_count": 20,
   "id": "1b89a835-8d0c-4372-9a96-b571bb78f543",
   "metadata": {},
   "outputs": [],
   "source": [
    "# https://www.youtube.com/watch?v=Utj0OPjRE30"
   ]
  },
  {
   "cell_type": "code",
   "execution_count": 21,
   "id": "d6e33b9b-d8e7-4d2e-bb6b-40a6bea56f4c",
   "metadata": {},
   "outputs": [
    {
     "name": "stdout",
     "output_type": "stream",
     "text": [
      "'df' == degrees of freedom\n",
      "df          1.0\n",
      "pvalue      0.0\n",
      "statistic   4052.132926585317\n"
     ]
    }
   ],
   "source": [
    "from statsmodels.stats.api import SquareTable\n",
    "print(\"'df' == degrees of freedom\")\n",
    "print(SquareTable(myCross, shift_zeros=False).symmetry())"
   ]
  },
  {
   "cell_type": "code",
   "execution_count": 22,
   "id": "3ded677b-7068-468a-9a23-8bf0c8290412",
   "metadata": {},
   "outputs": [],
   "source": [
    "# !pip install researchpy\n",
    "from researchpy import crosstab"
   ]
  },
  {
   "cell_type": "code",
   "execution_count": 23,
   "id": "8ddd9da5-f7d0-45cd-a452-fff739028cdb",
   "metadata": {},
   "outputs": [],
   "source": [
    "# https://colab.research.google.com/drive/1OhZhlALD4QtMkhBtvcPvhLRlSM-ZKtAq#scrollTo=K04wprg7sCpH\n",
    "def bowkerPHmc(data, field1, field2):\n",
    "    myDf = data[[field1,field2]]\n",
    "    \n",
    "    categories=myDf[field1].unique()\n",
    "    categories\n",
    "    \n",
    "\n",
    "    # the number of categories (should be equal for both variables)\n",
    "    k = len(categories)\n",
    "    # the number of tests that will be performed\n",
    "    K = (k*(k-1))/2\n",
    "    # an empty dataframe for the results later\n",
    "    phMcNemar = pd.DataFrame(columns=['category 1', 'category 2', 'chi2 value', 'p-unadj.', 'p-adj.'])\n",
    "\n",
    "    for i in range(0,k-1):\n",
    "        for j in range(i+1,k):\n",
    "            sel1 = categories[i]\n",
    "            sel2 = categories[j]\n",
    "            tempDf = myDf[((myDf[field1] == sel1) | (myDf[field1] == sel2)) & ((myDf[field2] == sel1) | (myDf[field2] == sel2))]\n",
    "            \n",
    "            # using the chi-square approximation and no continuity correction\n",
    "            crosstable, res = crosstab(tempDf[field1], tempDf[field2], test= \"mcnemar\", exact=False, correction=False)\n",
    "\n",
    "            chiVal = res['results'][0]\n",
    "            punadj = res['results'][1]\n",
    "\n",
    "            # adjust using the Bonferroni method:\n",
    "            padj = punadj * K\n",
    "            # set to 1 if larger than 1.\n",
    "            if padj>1:\n",
    "                padj=1\n",
    "\n",
    "            # add results to dataframe\n",
    "            newRow = {'category 1':sel1, 'category 2':sel2, 'chi2 value':chiVal, 'p-unadj.':punadj, 'p-adj.':padj}\n",
    "            phMcNemar = phMcNemar.append(newRow, ignore_index=True) \n",
    "\n",
    "    return phMcNemar    "
   ]
  },
  {
   "cell_type": "code",
   "execution_count": 24,
   "id": "708ad265-2d46-43e9-861c-bba796b75027",
   "metadata": {},
   "outputs": [
    {
     "data": {
      "text/plain": [
       "(  category 1  category 2  chi2 value  p-unadj.  p-adj.\n",
       " 0       exon      intron   1272.9358       0.0     0.0\n",
       " 1       exon  intergenic    124.0308       0.0     0.0\n",
       " 2     intron  intergenic     36.9689       0.0     0.0,\n",
       "   category 1  category 2  chi2 value  p-unadj.  p-adj.\n",
       " 0     intron        exon   5161.1324       0.0     0.0\n",
       " 1     intron  intergenic    556.0597       0.0     0.0\n",
       " 2       exon  intergenic   4036.0130       0.0     0.0)"
      ]
     },
     "execution_count": 24,
     "metadata": {},
     "output_type": "execute_result"
    }
   ],
   "source": [
    "bowkerPHmc(df, \"adapter\", \"true_labels\"), bowkerPHmc(df, \"baseline\", \"true_labels\")"
   ]
  },
  {
   "cell_type": "code",
   "execution_count": 25,
   "id": "3be1d7ab-fbf2-43e8-abe2-726da7f1b93f",
   "metadata": {},
   "outputs": [
    {
     "data": {
      "text/html": [
       "<div>\n",
       "<style scoped>\n",
       "    .dataframe tbody tr th:only-of-type {\n",
       "        vertical-align: middle;\n",
       "    }\n",
       "\n",
       "    .dataframe tbody tr th {\n",
       "        vertical-align: top;\n",
       "    }\n",
       "\n",
       "    .dataframe thead th {\n",
       "        text-align: right;\n",
       "    }\n",
       "</style>\n",
       "<table border=\"1\" class=\"dataframe\">\n",
       "  <thead>\n",
       "    <tr style=\"text-align: right;\">\n",
       "      <th></th>\n",
       "      <th>category 1</th>\n",
       "      <th>category 2</th>\n",
       "      <th>chi2 value</th>\n",
       "      <th>p-unadj.</th>\n",
       "      <th>p-adj.</th>\n",
       "    </tr>\n",
       "  </thead>\n",
       "  <tbody>\n",
       "    <tr>\n",
       "      <th>0</th>\n",
       "      <td>intron</td>\n",
       "      <td>exon</td>\n",
       "      <td>11045.1254</td>\n",
       "      <td>0.0000</td>\n",
       "      <td>0.0000</td>\n",
       "    </tr>\n",
       "    <tr>\n",
       "      <th>1</th>\n",
       "      <td>intron</td>\n",
       "      <td>intergenic</td>\n",
       "      <td>16.2722</td>\n",
       "      <td>0.0001</td>\n",
       "      <td>0.0003</td>\n",
       "    </tr>\n",
       "    <tr>\n",
       "      <th>2</th>\n",
       "      <td>exon</td>\n",
       "      <td>intergenic</td>\n",
       "      <td>4220.6830</td>\n",
       "      <td>0.0000</td>\n",
       "      <td>0.0000</td>\n",
       "    </tr>\n",
       "  </tbody>\n",
       "</table>\n",
       "</div>"
      ],
      "text/plain": [
       "  category 1  category 2  chi2 value  p-unadj.  p-adj.\n",
       "0     intron        exon  11045.1254    0.0000  0.0000\n",
       "1     intron  intergenic     16.2722    0.0001  0.0003\n",
       "2       exon  intergenic   4220.6830    0.0000  0.0000"
      ]
     },
     "execution_count": 25,
     "metadata": {},
     "output_type": "execute_result"
    }
   ],
   "source": [
    "# pro multilabel + tabulka a support\n",
    "# plus sloupečky cat1, cat2 support\n",
    "bowkerPHmc(df, \"baseline\", \"adapter\")"
   ]
  },
  {
   "cell_type": "markdown",
   "id": "d5845eca-9718-439a-b3f6-9efb31839d2d",
   "metadata": {},
   "source": [
    "## F-test for baseline + adapter and baseline only"
   ]
  },
  {
   "cell_type": "markdown",
   "id": "e808f131-00d1-4454-aeff-973808bb8991",
   "metadata": {},
   "source": [
    "The F-Test for Comparing Multiple Classifiers: https://sebastianraschka.com/blog/2018/model-evaluation-selection-part4.html#the-f-test-for-comparing-multiple-classifiers\n",
    "\n",
    "\n",
    "Code: http://rasbt.github.io/mlxtend/user_guide/evaluate/ftest/"
   ]
  },
  {
   "cell_type": "code",
   "execution_count": 79,
   "id": "ab089cee-988b-495e-85a8-8b8d7b08800b",
   "metadata": {},
   "outputs": [],
   "source": [
    "Names = ['RandomForestClassifier',\n",
    "         'GradientBoostingClassifier',\n",
    "         'RidgeClassifier',\n",
    "         'MLPClassifier',\n",
    "         'LogisticRegression',\n",
    "         'XGBClassifier',\n",
    "         'Adapter']"
   ]
  },
  {
   "cell_type": "code",
   "execution_count": 88,
   "id": "8071ab1e-1298-4335-893d-478aef7b41f0",
   "metadata": {},
   "outputs": [],
   "source": [
    "# Binary_values = [{'mean': '0.552', 'std': '0.004'},\n",
    "#                  {'mean': '0.623', 'std': '0.003'},\n",
    "#                  {'mean': '0.581', 'std': '0.004'},\n",
    "#                  {'mean': '0.561', 'std': '0.017'},\n",
    "#                  {'mean': '0.548', 'std': '0.009'},\n",
    "#                  {'mean': '0.646', 'std': '0.003'},\n",
    "#                  {'mean': '0.782', 'std': '0.003'}]\n",
    "# Multilabel_values = [{'mean': '0.339', 'std': '0.003'},\n",
    "#                      {'mean': '0.416', 'std': '0.003'},\n",
    "#                      {'mean': '0.361', 'std': '0.004'},\n",
    "#                      {'mean': '0.291', 'std': '0.021'},\n",
    "#                      {'mean': '0.344', 'std': '0.003'},\n",
    "#                      {'mean': '0.418', 'std': '0.004'},\n",
    "#                      {'mean': '0.572', 'std': '0.003'}]"
   ]
  },
  {
   "cell_type": "markdown",
   "id": "bfb85349-46c9-4e68-801a-8c3099212702",
   "metadata": {},
   "source": [
    "### Binary classification"
   ]
  },
  {
   "cell_type": "code",
   "execution_count": 28,
   "id": "0e92b939-c2e1-4967-b228-67aca95cacb9",
   "metadata": {},
   "outputs": [
    {
     "name": "stdout",
     "output_type": "stream",
     "text": [
      "200000\n",
      "200000\n",
      "200000\n",
      "200000\n",
      "200000\n",
      "200000\n",
      "200000\n",
      "{   'Adapter': array(['other', 'other', 'other', ..., 'other', 'exon', 'other'],\n",
      "      dtype='<U5'),\n",
      "    'GradientBoostingClassifier': array(['other', 'exon', 'exon', ..., 'exon', 'other', 'other'],\n",
      "      dtype='<U5'),\n",
      "    'LogisticRegression': array(['exon', 'exon', 'exon', ..., 'other', 'exon', 'other'], dtype='<U5'),\n",
      "    'MLPClassifier': array(['exon', 'exon', 'other', ..., 'exon', 'exon', 'other'], dtype='<U5'),\n",
      "    'RandomForestClassifier': array(['exon', 'exon', 'exon', ..., 'exon', 'exon', 'other'], dtype='<U5'),\n",
      "    'RidgeClassifier': array(['other', 'exon', 'exon', ..., 'other', 'other', 'other'],\n",
      "      dtype='<U5'),\n",
      "    'XGBClassifier': array(['exon', 'exon', 'exon', ..., 'other', 'exon', 'other'], dtype='<U5')}\n",
      "True labels: ['other', 'exon', 'exon', 'other', 'exon', 'other', 'other', 'other', 'other', 'exon']\n"
     ]
    }
   ],
   "source": [
    "import pickle\n",
    "import pprint\n",
    "import numpy as np\n",
    "\n",
    "pp = pprint.PrettyPrinter(indent=4)\n",
    "\n",
    "predicted_2x2 = {}\n",
    "\n",
    "\n",
    "ResultsFolder = \"Models_and_Results\"\n",
    "TokenizerAlgorithm = \"BLBPE\" # else \"CharBPE\"\n",
    "suffix=\"2x2\"\n",
    "\n",
    "#baseline\n",
    "for baseline in Names[:-1]:\n",
    "    ModelFolderName = str(baseline).split(\"(\")[0]   \n",
    "    Path = f\"/home/lieberze/DP/Thesis/04_baseline/{ResultsFolder}/{TokenizerAlgorithm}/{ModelFolderName}\"\n",
    "    x = LoadFile(f\"{Path}/pred_labels{suffix}.pk\")\n",
    "    print(len(x))\n",
    "    predicted_2x2[ModelFolderName] = x\n",
    "\n",
    "#adapter\n",
    "adapter = \"/home/lieberze/DP/Thesis/06_adapter/2x2_CV/pred_labels_fold_9_2x2.pk\"\n",
    "x = LoadFile(adapter)\n",
    "subs = {\n",
    "        \"exon\": \"exon\", \n",
    "        \"intron\": \"other\",\n",
    "        \"intergenic\": \"other\"\n",
    "            }\n",
    "x = [item[\"label\"] for item in x]\n",
    "print(len(x))\n",
    "predicted_2x2[\"Adapter\"] = np.array(x)\n",
    "pp.pprint(predicted_2x2)\n",
    "\n",
    "print(\"True labels:\",true_labels_2x2[:10])"
   ]
  },
  {
   "cell_type": "markdown",
   "id": "4232cd78-87d0-4350-b170-6d8fdca53fb0",
   "metadata": {},
   "source": [
    "F-test for adapter + baseline"
   ]
  },
  {
   "cell_type": "code",
   "execution_count": 76,
   "id": "12ca7a67-37ea-4cb7-afd1-4b6e2626b218",
   "metadata": {},
   "outputs": [
    {
     "name": "stdout",
     "output_type": "stream",
     "text": [
      "F: 10145.686\n",
      "p-value: 0.000\n"
     ]
    }
   ],
   "source": [
    "import numpy as np\n",
    "# pip install mlxtend\n",
    "from mlxtend.evaluate import ftest\n",
    "\n",
    "# # Unpacking list into four arguments\n",
    "# fun(*my_list)\n",
    "\n",
    "f, p_value = ftest(np.array(true_labels_2x2), \n",
    "                   *list(predicted_2x2.values())\n",
    "                  )\n",
    "\n",
    "print('F: %.3f' % f)\n",
    "print('p-value: %.3f' % p_value)"
   ]
  },
  {
   "cell_type": "markdown",
   "id": "4b75753d-1a9b-44bc-992f-f2d0e4d2ef8b",
   "metadata": {},
   "source": [
    "F-test for baseline only"
   ]
  },
  {
   "cell_type": "code",
   "execution_count": 78,
   "id": "c55d8760-dfd2-432f-86ad-dcf4c09595b9",
   "metadata": {},
   "outputs": [
    {
     "name": "stdout",
     "output_type": "stream",
     "text": [
      "F: 4157.132\n",
      "p-value: 0.000\n"
     ]
    }
   ],
   "source": [
    "f, p_value = ftest(np.array(true_labels_2x2), \n",
    "                   predicted_2x2[\"GradientBoostingClassifier\"],\n",
    "                   predicted_2x2[\"LogisticRegression\"],\n",
    "                   predicted_2x2[\"MLPClassifier\"],\n",
    "                   predicted_2x2[\"RandomForestClassifier\"],\n",
    "                   predicted_2x2[\"RidgeClassifier\"],\n",
    "                   predicted_2x2[\"XGBClassifier\"],\n",
    "                  )\n",
    "print('F: %.3f' % f)\n",
    "print('p-value: %.3f' % p_value)"
   ]
  },
  {
   "cell_type": "markdown",
   "id": "061d061c-8b52-4017-871b-f9e0c8218b9f",
   "metadata": {},
   "source": [
    "### Multi-label classification"
   ]
  },
  {
   "cell_type": "code",
   "execution_count": 74,
   "id": "afeaee40-39e3-4f7f-a684-6f2f42eec82e",
   "metadata": {},
   "outputs": [
    {
     "name": "stdout",
     "output_type": "stream",
     "text": [
      "100000\n",
      "100000\n",
      "100000\n",
      "100000\n",
      "100000\n",
      "100000\n",
      "100000\n",
      "{   'Adapter': array(['exon', 'intron', 'intergenic', ..., 'exon', 'exon', 'intergenic'],\n",
      "      dtype='<U10'),\n",
      "    'GradientBoostingClassifier': array(['exon', 'exon', 'intron', ..., 'exon', 'intergenic', 'intergenic'],\n",
      "      dtype='<U10'),\n",
      "    'LogisticRegression': array(['exon', 'intron', 'exon', ..., 'exon', 'exon', 'intergenic'],\n",
      "      dtype='<U10'),\n",
      "    'MLPClassifier': array(['exon', 'intergenic', 'intergenic', ..., 'exon', 'exon', 'exon'],\n",
      "      dtype='<U10'),\n",
      "    'RandomForestClassifier': array(['exon', 'exon', 'exon', ..., 'exon', 'exon', 'intergenic'],\n",
      "      dtype='<U10'),\n",
      "    'RidgeClassifier': array(['exon', 'exon', 'exon', ..., 'exon', 'exon', 'intergenic'],\n",
      "      dtype='<U10'),\n",
      "    'XGBClassifier': array(['intron', 'exon', 'intron', ..., 'intron', 'intron', 'intergenic'],\n",
      "      dtype='<U10')}\n",
      "True labels: ['intron', 'intron', 'exon', 'intergenic', 'exon', 'intron', 'intergenic', 'intron', 'intron', 'exon']\n"
     ]
    }
   ],
   "source": [
    "import pickle\n",
    "import numpy as np\n",
    "predicted_3x3 = {}\n",
    "\n",
    "ResultsFolder = \"Models_and_Results\"\n",
    "TokenizerAlgorithm = \"BLBPE\" # else \"CharBPE\"\n",
    "suffix=\"3x3\"\n",
    "\n",
    "#baseline\n",
    "for baseline in Names[:-1]:\n",
    "    ModelFolderName = str(baseline).split(\"(\")[0]   \n",
    "    Path = f\"/home/lieberze/DP/Thesis/04_baseline/{ResultsFolder}/{TokenizerAlgorithm}/{ModelFolderName}\"\n",
    "    x = LoadFile(f\"{Path}/pred_labels{suffix}.pk\")\n",
    "    print(len(x))\n",
    "    predicted_3x3[ModelFolderName] = x\n",
    "\n",
    "#adapter\n",
    "adapter = \"/home/lieberze/DP/Thesis/06_adapter/3x3_CV/pred_labels_fold_9_3x3.pk\"\n",
    "x = LoadFile(adapter)\n",
    "x = [item[\"label\"] for item in x]\n",
    "print(len(x))\n",
    "predicted_3x3[\"Adapter\"] = np.array(x)\n",
    "pp.pprint(predicted_3x3)\n",
    "\n",
    "print(\"True labels:\",true_labels_3x3[:10])"
   ]
  },
  {
   "cell_type": "markdown",
   "id": "8fabb916-ec96-4b77-b8b6-852a8f923996",
   "metadata": {},
   "source": [
    "F-test for adapter + baseline"
   ]
  },
  {
   "cell_type": "code",
   "execution_count": 65,
   "id": "00ed6239-e72d-4412-851e-da6be0f7c156",
   "metadata": {},
   "outputs": [
    {
     "name": "stdout",
     "output_type": "stream",
     "text": [
      "F: 3451.300\n",
      "p-value: 0.000\n"
     ]
    }
   ],
   "source": [
    "import numpy as np\n",
    "# pip install mlxtend\n",
    "from mlxtend.evaluate import ftest\n",
    "\n",
    "# # Unpacking list into four arguments\n",
    "# fun(*my_list)\n",
    "\n",
    "f, p_value = ftest(np.array(true_labels_3x3), \n",
    "                   *list(predicted_3x3.values())\n",
    "                  )\n",
    "\n",
    "print('F: %.3f' % f)\n",
    "print('p-value: %.3f' % p_value)"
   ]
  },
  {
   "cell_type": "markdown",
   "id": "b5e0a5ed-36f7-4a12-a580-6130307d045e",
   "metadata": {},
   "source": [
    "F-test for baseline only"
   ]
  },
  {
   "cell_type": "code",
   "execution_count": 72,
   "id": "8b8d4499-0002-41e4-9185-4e192c018a23",
   "metadata": {},
   "outputs": [
    {
     "name": "stdout",
     "output_type": "stream",
     "text": [
      "F: 899.913\n",
      "p-value: 0.000\n"
     ]
    }
   ],
   "source": [
    "f, p_value = ftest(np.array(true_labels_3x3), \n",
    "                   predicted_3x3[\"GradientBoostingClassifier\"],\n",
    "                   predicted_3x3[\"LogisticRegression\"],\n",
    "                   predicted_3x3[\"MLPClassifier\"],\n",
    "                   predicted_3x3[\"RandomForestClassifier\"],\n",
    "                   predicted_3x3[\"RidgeClassifier\"],\n",
    "                   predicted_3x3[\"XGBClassifier\"],\n",
    "                  )\n",
    "print('F: %.3f' % f)\n",
    "print('p-value: %.3f' % p_value)"
   ]
  }
 ],
 "metadata": {
  "kernelspec": {
   "display_name": "Python 3",
   "language": "python",
   "name": "python3"
  },
  "language_info": {
   "codemirror_mode": {
    "name": "ipython",
    "version": 3
   },
   "file_extension": ".py",
   "mimetype": "text/x-python",
   "name": "python",
   "nbconvert_exporter": "python",
   "pygments_lexer": "ipython3",
   "version": "3.6.13"
  }
 },
 "nbformat": 4,
 "nbformat_minor": 5
}
